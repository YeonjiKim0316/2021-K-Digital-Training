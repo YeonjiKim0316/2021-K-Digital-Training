{
  "cells": [
    {
      "cell_type": "markdown",
      "id": "81e0620e",
      "metadata": {
        "id": "81e0620e"
      },
      "source": [
        "Last updated: 16 Feb 2023\n",
        "\n",
        "# 👋 PyCaret Multiclass Classification Tutorial\n",
        "\n",
        "PyCaret is an open-source, low-code machine learning library in Python that automates machine learning workflows. It is an end-to-end machine learning and model management tool that exponentially speeds up the experiment cycle and makes you more productive.\n",
        "\n",
        "Compared with the other open-source machine learning libraries, PyCaret is an alternate low-code library that can be used to replace hundreds of lines of code with a few lines only. This makes experiments exponentially fast and efficient. PyCaret is essentially a Python wrapper around several machine learning libraries and frameworks, such as scikit-learn, XGBoost, LightGBM, CatBoost, spaCy, Optuna, Hyperopt, Ray, and a few more.\n",
        "\n",
        "The design and simplicity of PyCaret are inspired by the emerging role of citizen data scientists, a term first used by Gartner. Citizen Data Scientists are power users who can perform both simple and moderately sophisticated analytical tasks that would previously have required more technical expertise.\n"
      ]
    },
    {
      "cell_type": "markdown",
      "id": "8116e19d",
      "metadata": {
        "id": "8116e19d"
      },
      "source": [
        "# 💻 Installation\n",
        "\n",
        "PyCaret is tested and supported on the following 64-bit systems:\n",
        "- Python 3.7 – 3.10\n",
        "- Python 3.9 for Ubuntu only\n",
        "- Ubuntu 16.04 or later\n",
        "- Windows 7 or later\n",
        "\n",
        "You can install PyCaret with Python's pip package manager:\n",
        "\n",
        "`pip install pycaret`\n",
        "\n",
        "PyCaret's default installation will not install all the extra dependencies automatically. For that you will have to install the full version:\n",
        "\n",
        "`pip install pycaret[full]`\n",
        "\n",
        "or depending on your use-case you may install one of the following variant:\n",
        "\n",
        "- `pip install pycaret[analysis]`\n",
        "- `pip install pycaret[models]`\n",
        "- `pip install pycaret[tuner]`\n",
        "- `pip install pycaret[mlops]`\n",
        "- `pip install pycaret[parallel]`\n",
        "- `pip install pycaret[test]`"
      ]
    },
    {
      "cell_type": "code",
      "source": [
        "!pip install pycaret[full]"
      ],
      "metadata": {
        "id": "XyWiYoAykK48",
        "outputId": "682bb5f3-56c1-42d6-bbd9-3d00f8f3e36b",
        "colab": {
          "base_uri": "https://localhost:8080/"
        }
      },
      "id": "XyWiYoAykK48",
      "execution_count": null,
      "outputs": [
        {
          "output_type": "stream",
          "name": "stdout",
          "text": [
            "Collecting pycaret[full]\n",
            "  Downloading pycaret-3.3.2-py3-none-any.whl.metadata (17 kB)\n",
            "Requirement already satisfied: ipython>=5.5.0 in /usr/local/lib/python3.11/dist-packages (from pycaret[full]) (7.34.0)\n",
            "Requirement already satisfied: ipywidgets>=7.6.5 in /usr/local/lib/python3.11/dist-packages (from pycaret[full]) (7.7.1)\n",
            "Requirement already satisfied: tqdm>=4.62.0 in /usr/local/lib/python3.11/dist-packages (from pycaret[full]) (4.67.1)\n",
            "Requirement already satisfied: numpy<1.27,>=1.21 in /usr/local/lib/python3.11/dist-packages (from pycaret[full]) (1.26.4)\n",
            "Collecting pandas<2.2.0 (from pycaret[full])\n",
            "  Downloading pandas-2.1.4-cp311-cp311-manylinux_2_17_x86_64.manylinux2014_x86_64.whl.metadata (18 kB)\n",
            "Requirement already satisfied: jinja2>=3 in /usr/local/lib/python3.11/dist-packages (from pycaret[full]) (3.1.5)\n",
            "Collecting scipy<=1.11.4,>=1.6.1 (from pycaret[full])\n",
            "  Downloading scipy-1.11.4-cp311-cp311-manylinux_2_17_x86_64.manylinux2014_x86_64.whl.metadata (60 kB)\n",
            "\u001b[2K     \u001b[90m━━━━━━━━━━━━━━━━━━━━━━━━━━━━━━━━━━━━━━━━\u001b[0m \u001b[32m60.4/60.4 kB\u001b[0m \u001b[31m3.2 MB/s\u001b[0m eta \u001b[36m0:00:00\u001b[0m\n",
            "\u001b[?25hCollecting joblib<1.4,>=1.2.0 (from pycaret[full])\n",
            "  Downloading joblib-1.3.2-py3-none-any.whl.metadata (5.4 kB)\n",
            "Requirement already satisfied: scikit-learn>1.4.0 in /usr/local/lib/python3.11/dist-packages (from pycaret[full]) (1.6.1)\n",
            "Collecting pyod>=1.1.3 (from pycaret[full])\n",
            "  Downloading pyod-2.0.3.tar.gz (169 kB)\n",
            "\u001b[2K     \u001b[90m━━━━━━━━━━━━━━━━━━━━━━━━━━━━━━━━━━━━━━━━\u001b[0m \u001b[32m169.6/169.6 kB\u001b[0m \u001b[31m9.2 MB/s\u001b[0m eta \u001b[36m0:00:00\u001b[0m\n",
            "\u001b[?25h  Preparing metadata (setup.py) ... \u001b[?25l\u001b[?25hdone\n",
            "Requirement already satisfied: imbalanced-learn>=0.12.0 in /usr/local/lib/python3.11/dist-packages (from pycaret[full]) (0.13.0)\n",
            "Collecting category-encoders>=2.4.0 (from pycaret[full])\n",
            "  Downloading category_encoders-2.8.0-py3-none-any.whl.metadata (7.9 kB)\n",
            "Requirement already satisfied: lightgbm>=3.0.0 in /usr/local/lib/python3.11/dist-packages (from pycaret[full]) (4.5.0)\n",
            "Requirement already satisfied: numba>=0.55.0 in /usr/local/lib/python3.11/dist-packages (from pycaret[full]) (0.61.0)\n",
            "Requirement already satisfied: requests>=2.27.1 in /usr/local/lib/python3.11/dist-packages (from pycaret[full]) (2.32.3)\n",
            "Requirement already satisfied: psutil>=5.9.0 in /usr/local/lib/python3.11/dist-packages (from pycaret[full]) (5.9.5)\n",
            "Requirement already satisfied: markupsafe>=2.0.1 in /usr/local/lib/python3.11/dist-packages (from pycaret[full]) (3.0.2)\n",
            "Requirement already satisfied: importlib-metadata>=4.12.0 in /usr/local/lib/python3.11/dist-packages (from pycaret[full]) (8.6.1)\n",
            "Requirement already satisfied: nbformat>=4.2.0 in /usr/local/lib/python3.11/dist-packages (from pycaret[full]) (5.10.4)\n",
            "Requirement already satisfied: cloudpickle in /usr/local/lib/python3.11/dist-packages (from pycaret[full]) (3.1.1)\n",
            "Collecting deprecation>=2.1.0 (from pycaret[full])\n",
            "  Downloading deprecation-2.1.0-py2.py3-none-any.whl.metadata (4.6 kB)\n",
            "Collecting xxhash (from pycaret[full])\n",
            "  Downloading xxhash-3.5.0-cp311-cp311-manylinux_2_17_x86_64.manylinux2014_x86_64.whl.metadata (12 kB)\n",
            "Collecting matplotlib<3.8.0 (from pycaret[full])\n",
            "  Downloading matplotlib-3.7.5-cp311-cp311-manylinux_2_17_x86_64.manylinux2014_x86_64.whl.metadata (5.7 kB)\n",
            "Collecting scikit-plot>=0.3.7 (from pycaret[full])\n",
            "  Downloading scikit_plot-0.3.7-py3-none-any.whl.metadata (7.1 kB)\n",
            "Requirement already satisfied: yellowbrick>=1.4 in /usr/local/lib/python3.11/dist-packages (from pycaret[full]) (1.5)\n",
            "Requirement already satisfied: plotly>=5.14.0 in /usr/local/lib/python3.11/dist-packages (from pycaret[full]) (5.24.1)\n",
            "Collecting kaleido>=0.2.1 (from pycaret[full])\n",
            "  Downloading kaleido-0.2.1-py2.py3-none-manylinux1_x86_64.whl.metadata (15 kB)\n",
            "Collecting schemdraw==0.15 (from pycaret[full])\n",
            "  Downloading schemdraw-0.15-py3-none-any.whl.metadata (2.2 kB)\n",
            "Collecting plotly-resampler>=0.8.3.1 (from pycaret[full])\n",
            "  Downloading plotly_resampler-0.10.0-py3-none-any.whl.metadata (13 kB)\n",
            "Requirement already satisfied: statsmodels>=0.12.1 in /usr/local/lib/python3.11/dist-packages (from pycaret[full]) (0.14.4)\n",
            "Collecting sktime==0.26.0 (from pycaret[full])\n",
            "  Downloading sktime-0.26.0-py3-none-any.whl.metadata (29 kB)\n",
            "Collecting tbats>=1.1.3 (from pycaret[full])\n",
            "  Downloading tbats-1.1.3-py3-none-any.whl.metadata (3.8 kB)\n",
            "Collecting pmdarima>=2.0.4 (from pycaret[full])\n",
            "  Downloading pmdarima-2.0.4-cp311-cp311-manylinux_2_17_x86_64.manylinux2014_x86_64.manylinux_2_28_x86_64.whl.metadata (7.8 kB)\n",
            "Collecting wurlitzer (from pycaret[full])\n",
            "  Downloading wurlitzer-3.1.1-py3-none-any.whl.metadata (2.5 kB)\n",
            "Collecting shap~=0.44.0 (from pycaret[full])\n",
            "  Downloading shap-0.44.1-cp311-cp311-manylinux_2_12_x86_64.manylinux2010_x86_64.manylinux_2_17_x86_64.manylinux2014_x86_64.whl.metadata (24 kB)\n",
            "Collecting interpret>=0.2.7 (from pycaret[full])\n",
            "  Downloading interpret-0.6.9-py3-none-any.whl.metadata (1.0 kB)\n",
            "Collecting umap-learn>=0.5.2 (from pycaret[full])\n",
            "  Downloading umap_learn-0.5.7-py3-none-any.whl.metadata (21 kB)\n",
            "Requirement already satisfied: pyyaml in /usr/local/lib/python3.11/dist-packages (from pycaret[full]) (6.0.2)\n",
            "Collecting ydata-profiling>=4.3.1 (from pycaret[full])\n",
            "  Downloading ydata_profiling-4.12.2-py2.py3-none-any.whl.metadata (20 kB)\n",
            "Collecting explainerdashboard>=0.3.8 (from pycaret[full])\n",
            "  Downloading explainerdashboard-0.4.8-py3-none-any.whl.metadata (3.8 kB)\n",
            "Collecting fairlearn==0.7.0 (from pycaret[full])\n",
            "  Downloading fairlearn-0.7.0-py3-none-any.whl.metadata (7.3 kB)\n",
            "Collecting kmodes>=0.11.1 (from pycaret[full])\n",
            "  Downloading kmodes-0.12.2-py2.py3-none-any.whl.metadata (8.1 kB)\n",
            "Requirement already satisfied: mlxtend>=0.19.0 in /usr/local/lib/python3.11/dist-packages (from pycaret[full]) (0.23.4)\n",
            "Collecting statsforecast<1.6.0,>=0.5.5 (from pycaret[full])\n",
            "  Downloading statsforecast-1.5.0-py3-none-any.whl.metadata (23 kB)\n",
            "Requirement already satisfied: hyperopt>=0.2.7 in /usr/local/lib/python3.11/dist-packages (from pycaret[full]) (0.2.7)\n",
            "Collecting optuna>=3.0.0 (from pycaret[full])\n",
            "  Downloading optuna-4.2.1-py3-none-any.whl.metadata (17 kB)\n",
            "Collecting optuna-integration (from pycaret[full])\n",
            "  Downloading optuna_integration-4.2.1-py3-none-any.whl.metadata (12 kB)\n",
            "Collecting scikit-optimize>=0.9.0 (from pycaret[full])\n",
            "  Downloading scikit_optimize-0.10.2-py2.py3-none-any.whl.metadata (9.7 kB)\n",
            "Collecting mlflow>=2.0.0 (from pycaret[full])\n",
            "  Downloading mlflow-2.20.2-py3-none-any.whl.metadata (30 kB)\n",
            "Collecting gradio>=3.50.2 (from pycaret[full])\n",
            "  Downloading gradio-5.17.0-py3-none-any.whl.metadata (16 kB)\n",
            "Collecting boto3>=1.24.56 (from pycaret[full])\n",
            "  Downloading boto3-1.36.25-py3-none-any.whl.metadata (6.7 kB)\n",
            "Collecting fastapi (from pycaret[full])\n",
            "  Downloading fastapi-0.115.8-py3-none-any.whl.metadata (27 kB)\n",
            "Collecting uvicorn>=0.17.6 (from pycaret[full])\n",
            "  Downloading uvicorn-0.34.0-py3-none-any.whl.metadata (6.5 kB)\n",
            "Collecting m2cgen>=0.9.0 (from pycaret[full])\n",
            "  Downloading m2cgen-0.10.0-py3-none-any.whl.metadata (9.9 kB)\n",
            "Collecting evidently~=0.4.16 (from pycaret[full])\n",
            "  Downloading evidently-0.4.40-py3-none-any.whl.metadata (11 kB)\n",
            "Requirement already satisfied: dask>=2024.4.1 in /usr/local/lib/python3.11/dist-packages (from pycaret[full]) (2024.10.0)\n",
            "Collecting distributed>=2024.4.1 (from pycaret[full])\n",
            "  Downloading distributed-2025.2.0-py3-none-any.whl.metadata (3.3 kB)\n",
            "Collecting fugue~=0.8.0 (from pycaret[full])\n",
            "  Downloading fugue-0.8.7-py3-none-any.whl.metadata (17 kB)\n",
            "Requirement already satisfied: flask in /usr/local/lib/python3.11/dist-packages (from pycaret[full]) (3.1.0)\n",
            "Collecting Werkzeug<3.0,>=2.2 (from pycaret[full])\n",
            "  Downloading werkzeug-2.3.8-py3-none-any.whl.metadata (4.1 kB)\n",
            "Collecting pytest<8.0.0 (from pycaret[full])\n",
            "  Downloading pytest-7.4.4-py3-none-any.whl.metadata (7.9 kB)\n",
            "Collecting moto<5.0.0 (from pycaret[full])\n",
            "  Downloading moto-4.2.14-py2.py3-none-any.whl.metadata (12 kB)\n",
            "Collecting dash[testing] (from pycaret[full])\n",
            "  Downloading dash-2.18.2-py3-none-any.whl.metadata (10 kB)\n",
            "Collecting scikit-learn-intelex>=2023.0.1 (from pycaret[full])\n",
            "  Downloading scikit_learn_intelex-2025.2.0-py311-none-manylinux_2_28_x86_64.whl.metadata (12 kB)\n",
            "Collecting catboost>=0.23.2 (from pycaret[full])\n",
            "  Downloading catboost-1.2.7-cp311-cp311-manylinux2014_x86_64.whl.metadata (1.2 kB)\n",
            "Requirement already satisfied: xgboost>=1.1.0 in /usr/local/lib/python3.11/dist-packages (from pycaret[full]) (2.1.4)\n",
            "Requirement already satisfied: packaging in /usr/local/lib/python3.11/dist-packages (from sktime==0.26.0->pycaret[full]) (24.2)\n",
            "Collecting scikit-base<0.8.0 (from sktime==0.26.0->pycaret[full])\n",
            "  Downloading scikit_base-0.7.8-py3-none-any.whl.metadata (8.8 kB)\n",
            "Collecting scikit-learn>1.4.0 (from pycaret[full])\n",
            "  Downloading scikit_learn-1.4.2-cp311-cp311-manylinux_2_17_x86_64.manylinux2014_x86_64.whl.metadata (11 kB)\n",
            "Collecting botocore<1.37.0,>=1.36.25 (from boto3>=1.24.56->pycaret[full])\n",
            "  Downloading botocore-1.36.25-py3-none-any.whl.metadata (5.7 kB)\n",
            "Collecting jmespath<2.0.0,>=0.7.1 (from boto3>=1.24.56->pycaret[full])\n",
            "  Downloading jmespath-1.0.1-py3-none-any.whl.metadata (7.6 kB)\n",
            "Collecting s3transfer<0.12.0,>=0.11.0 (from boto3>=1.24.56->pycaret[full])\n",
            "  Downloading s3transfer-0.11.2-py3-none-any.whl.metadata (1.7 kB)\n",
            "Requirement already satisfied: graphviz in /usr/local/lib/python3.11/dist-packages (from catboost>=0.23.2->pycaret[full]) (0.20.3)\n",
            "Requirement already satisfied: six in /usr/local/lib/python3.11/dist-packages (from catboost>=0.23.2->pycaret[full]) (1.17.0)\n",
            "Requirement already satisfied: patsy>=0.5.1 in /usr/local/lib/python3.11/dist-packages (from category-encoders>=2.4.0->pycaret[full]) (1.0.1)\n",
            "INFO: pip is looking at multiple versions of category-encoders to determine which version is compatible with other requirements. This could take a while.\n",
            "Collecting category-encoders>=2.4.0 (from pycaret[full])\n",
            "  Downloading category_encoders-2.7.0-py3-none-any.whl.metadata (7.9 kB)\n",
            "Requirement already satisfied: click>=8.1 in /usr/local/lib/python3.11/dist-packages (from dask>=2024.4.1->pycaret[full]) (8.1.8)\n",
            "Requirement already satisfied: fsspec>=2021.09.0 in /usr/local/lib/python3.11/dist-packages (from dask>=2024.4.1->pycaret[full]) (2024.10.0)\n",
            "Requirement already satisfied: partd>=1.4.0 in /usr/local/lib/python3.11/dist-packages (from dask>=2024.4.1->pycaret[full]) (1.4.2)\n",
            "Requirement already satisfied: toolz>=0.10.0 in /usr/local/lib/python3.11/dist-packages (from dask>=2024.4.1->pycaret[full]) (0.12.1)\n",
            "Collecting dask>=2024.4.1 (from pycaret[full])\n",
            "  Downloading dask-2025.2.0-py3-none-any.whl.metadata (3.8 kB)\n",
            "Requirement already satisfied: locket>=1.0.0 in /usr/local/lib/python3.11/dist-packages (from distributed>=2024.4.1->pycaret[full]) (1.0.0)\n",
            "Requirement already satisfied: msgpack>=1.0.2 in /usr/local/lib/python3.11/dist-packages (from distributed>=2024.4.1->pycaret[full]) (1.1.0)\n",
            "Collecting sortedcontainers>=2.0.5 (from distributed>=2024.4.1->pycaret[full])\n",
            "  Downloading sortedcontainers-2.4.0-py2.py3-none-any.whl.metadata (10 kB)\n",
            "Collecting tblib>=1.6.0 (from distributed>=2024.4.1->pycaret[full])\n",
            "  Downloading tblib-3.0.0-py3-none-any.whl.metadata (25 kB)\n",
            "Requirement already satisfied: tornado>=6.2.0 in /usr/local/lib/python3.11/dist-packages (from distributed>=2024.4.1->pycaret[full]) (6.4.2)\n",
            "Requirement already satisfied: urllib3>=1.26.5 in /usr/local/lib/python3.11/dist-packages (from distributed>=2024.4.1->pycaret[full]) (2.3.0)\n",
            "Collecting zict>=3.0.0 (from distributed>=2024.4.1->pycaret[full])\n",
            "  Downloading zict-3.0.0-py2.py3-none-any.whl.metadata (899 bytes)\n",
            "Requirement already satisfied: nltk>=3.6.7 in /usr/local/lib/python3.11/dist-packages (from evidently~=0.4.16->pycaret[full]) (3.9.1)\n",
            "Requirement already satisfied: pydantic>=1.10.13 in /usr/local/lib/python3.11/dist-packages (from evidently~=0.4.16->pycaret[full]) (2.10.6)\n",
            "Collecting litestar>=2.8.3 (from evidently~=0.4.16->pycaret[full])\n",
            "  Downloading litestar-2.14.0-py3-none-any.whl.metadata (108 kB)\n",
            "\u001b[2K     \u001b[90m━━━━━━━━━━━━━━━━━━━━━━━━━━━━━━━━━━━━━━━━\u001b[0m \u001b[32m108.6/108.6 kB\u001b[0m \u001b[31m11.0 MB/s\u001b[0m eta \u001b[36m0:00:00\u001b[0m\n",
            "\u001b[?25hCollecting typing-inspect>=0.9.0 (from evidently~=0.4.16->pycaret[full])\n",
            "  Downloading typing_inspect-0.9.0-py3-none-any.whl.metadata (1.5 kB)\n",
            "Collecting watchdog>=3.0.0 (from evidently~=0.4.16->pycaret[full])\n",
            "  Downloading watchdog-6.0.0-py3-none-manylinux2014_x86_64.whl.metadata (44 kB)\n",
            "\u001b[2K     \u001b[90m━━━━━━━━━━━━━━━━━━━━━━━━━━━━━━━━━━━━━━━━\u001b[0m \u001b[32m44.3/44.3 kB\u001b[0m \u001b[31m3.7 MB/s\u001b[0m eta \u001b[36m0:00:00\u001b[0m\n",
            "\u001b[?25hRequirement already satisfied: typer>=0.3 in /usr/local/lib/python3.11/dist-packages (from evidently~=0.4.16->pycaret[full]) (0.15.1)\n",
            "Requirement already satisfied: rich>=13 in /usr/local/lib/python3.11/dist-packages (from evidently~=0.4.16->pycaret[full]) (13.9.4)\n",
            "Collecting iterative-telemetry>=0.0.5 (from evidently~=0.4.16->pycaret[full])\n",
            "  Downloading iterative_telemetry-0.0.10-py3-none-any.whl.metadata (4.1 kB)\n",
            "Collecting dynaconf>=3.2.4 (from evidently~=0.4.16->pycaret[full])\n",
            "  Downloading dynaconf-3.2.10-py2.py3-none-any.whl.metadata (9.1 kB)\n",
            "Requirement already satisfied: certifi>=2024.7.4 in /usr/local/lib/python3.11/dist-packages (from evidently~=0.4.16->pycaret[full]) (2025.1.31)\n",
            "Collecting ujson>=5.4.0 (from evidently~=0.4.16->pycaret[full])\n",
            "  Downloading ujson-5.10.0-cp311-cp311-manylinux_2_17_x86_64.manylinux2014_x86_64.whl.metadata (9.3 kB)\n",
            "Collecting uuid6>=2024.7.10 (from evidently~=0.4.16->pycaret[full])\n",
            "  Downloading uuid6-2024.7.10-py3-none-any.whl.metadata (8.6 kB)\n",
            "Requirement already satisfied: cryptography>=43.0.1 in /usr/local/lib/python3.11/dist-packages (from evidently~=0.4.16->pycaret[full]) (43.0.3)\n",
            "Collecting dash-auth (from explainerdashboard>=0.3.8->pycaret[full])\n",
            "  Downloading dash_auth-2.3.0-py3-none-any.whl.metadata (10 kB)\n",
            "Collecting dash-bootstrap-components>=1 (from explainerdashboard>=0.3.8->pycaret[full])\n",
            "  Downloading dash_bootstrap_components-1.7.1-py3-none-any.whl.metadata (17 kB)\n",
            "Collecting dtreeviz>=2.1 (from explainerdashboard>=0.3.8->pycaret[full])\n",
            "  Downloading dtreeviz-2.2.2-py3-none-any.whl.metadata (2.4 kB)\n",
            "Collecting flask_simplelogin (from explainerdashboard>=0.3.8->pycaret[full])\n",
            "  Downloading flask_simplelogin-0.2.0-py3-none-any.whl.metadata (3.3 kB)\n",
            "Collecting Flask-WTF>=1.1 (from explainerdashboard>=0.3.8->pycaret[full])\n",
            "  Downloading flask_wtf-1.2.2-py3-none-any.whl.metadata (3.4 kB)\n",
            "Collecting jupyter_dash>=0.4.1 (from explainerdashboard>=0.3.8->pycaret[full])\n",
            "  Downloading jupyter_dash-0.4.2-py3-none-any.whl.metadata (3.6 kB)\n",
            "Collecting oyaml (from explainerdashboard>=0.3.8->pycaret[full])\n",
            "  Downloading oyaml-1.0-py2.py3-none-any.whl.metadata (1.2 kB)\n",
            "Collecting waitress (from explainerdashboard>=0.3.8->pycaret[full])\n",
            "  Downloading waitress-3.0.2-py3-none-any.whl.metadata (5.8 kB)\n",
            "Collecting triad>=0.9.3 (from fugue~=0.8.0->pycaret[full])\n",
            "  Downloading triad-0.9.8-py3-none-any.whl.metadata (6.3 kB)\n",
            "Collecting adagio>=0.2.4 (from fugue~=0.8.0->pycaret[full])\n",
            "  Downloading adagio-0.2.6-py3-none-any.whl.metadata (1.8 kB)\n",
            "Collecting qpd>=0.4.4 (from fugue~=0.8.0->pycaret[full])\n",
            "  Downloading qpd-0.4.4-py3-none-any.whl.metadata (6.4 kB)\n",
            "Collecting fugue-sql-antlr>=0.1.6 (from fugue~=0.8.0->pycaret[full])\n",
            "  Downloading fugue-sql-antlr-0.2.2.tar.gz (154 kB)\n",
            "\u001b[2K     \u001b[90m━━━━━━━━━━━━━━━━━━━━━━━━━━━━━━━━━━━━━━━━\u001b[0m \u001b[32m154.7/154.7 kB\u001b[0m \u001b[31m15.8 MB/s\u001b[0m eta \u001b[36m0:00:00\u001b[0m\n",
            "\u001b[?25h  Preparing metadata (setup.py) ... \u001b[?25l\u001b[?25hdone\n",
            "Requirement already satisfied: sqlglot in /usr/local/lib/python3.11/dist-packages (from fugue~=0.8.0->pycaret[full]) (25.6.1)\n",
            "Collecting aiofiles<24.0,>=22.0 (from gradio>=3.50.2->pycaret[full])\n",
            "  Downloading aiofiles-23.2.1-py3-none-any.whl.metadata (9.7 kB)\n",
            "Requirement already satisfied: anyio<5.0,>=3.0 in /usr/local/lib/python3.11/dist-packages (from gradio>=3.50.2->pycaret[full]) (3.7.1)\n",
            "Collecting ffmpy (from gradio>=3.50.2->pycaret[full])\n",
            "  Downloading ffmpy-0.5.0-py3-none-any.whl.metadata (3.0 kB)\n",
            "Collecting gradio-client==1.7.1 (from gradio>=3.50.2->pycaret[full])\n",
            "  Downloading gradio_client-1.7.1-py3-none-any.whl.metadata (7.1 kB)\n",
            "Requirement already satisfied: httpx>=0.24.1 in /usr/local/lib/python3.11/dist-packages (from gradio>=3.50.2->pycaret[full]) (0.28.1)\n",
            "Requirement already satisfied: huggingface-hub>=0.28.1 in /usr/local/lib/python3.11/dist-packages (from gradio>=3.50.2->pycaret[full]) (0.28.1)\n",
            "Collecting markupsafe>=2.0.1 (from pycaret[full])\n",
            "  Downloading MarkupSafe-2.1.5-cp311-cp311-manylinux_2_17_x86_64.manylinux2014_x86_64.whl.metadata (3.0 kB)\n",
            "Requirement already satisfied: orjson~=3.0 in /usr/local/lib/python3.11/dist-packages (from gradio>=3.50.2->pycaret[full]) (3.10.15)\n",
            "Requirement already satisfied: pillow<12.0,>=8.0 in /usr/local/lib/python3.11/dist-packages (from gradio>=3.50.2->pycaret[full]) (11.1.0)\n",
            "Collecting pydub (from gradio>=3.50.2->pycaret[full])\n",
            "  Downloading pydub-0.25.1-py2.py3-none-any.whl.metadata (1.4 kB)\n",
            "Collecting python-multipart>=0.0.18 (from gradio>=3.50.2->pycaret[full])\n",
            "  Downloading python_multipart-0.0.20-py3-none-any.whl.metadata (1.8 kB)\n",
            "Collecting ruff>=0.9.3 (from gradio>=3.50.2->pycaret[full])\n",
            "  Downloading ruff-0.9.7-py3-none-manylinux_2_17_x86_64.manylinux2014_x86_64.whl.metadata (25 kB)\n",
            "Collecting safehttpx<0.2.0,>=0.1.6 (from gradio>=3.50.2->pycaret[full])\n",
            "  Downloading safehttpx-0.1.6-py3-none-any.whl.metadata (4.2 kB)\n",
            "Collecting semantic-version~=2.0 (from gradio>=3.50.2->pycaret[full])\n",
            "  Downloading semantic_version-2.10.0-py2.py3-none-any.whl.metadata (9.7 kB)\n",
            "Collecting starlette<1.0,>=0.40.0 (from gradio>=3.50.2->pycaret[full])\n",
            "  Downloading starlette-0.45.3-py3-none-any.whl.metadata (6.3 kB)\n",
            "Collecting tomlkit<0.14.0,>=0.12.0 (from gradio>=3.50.2->pycaret[full])\n",
            "  Downloading tomlkit-0.13.2-py3-none-any.whl.metadata (2.7 kB)\n",
            "Requirement already satisfied: typing-extensions~=4.0 in /usr/local/lib/python3.11/dist-packages (from gradio>=3.50.2->pycaret[full]) (4.12.2)\n",
            "Requirement already satisfied: websockets<15.0,>=10.0 in /usr/local/lib/python3.11/dist-packages (from gradio-client==1.7.1->gradio>=3.50.2->pycaret[full]) (14.2)\n",
            "Requirement already satisfied: networkx>=2.2 in /usr/local/lib/python3.11/dist-packages (from hyperopt>=0.2.7->pycaret[full]) (3.4.2)\n",
            "Requirement already satisfied: future in /usr/local/lib/python3.11/dist-packages (from hyperopt>=0.2.7->pycaret[full]) (1.0.0)\n",
            "Requirement already satisfied: py4j in /usr/local/lib/python3.11/dist-packages (from hyperopt>=0.2.7->pycaret[full]) (0.10.9.7)\n",
            "Requirement already satisfied: sklearn-compat<1,>=0.1 in /usr/local/lib/python3.11/dist-packages (from imbalanced-learn>=0.12.0->pycaret[full]) (0.1.3)\n",
            "Requirement already satisfied: threadpoolctl<4,>=2.0.0 in /usr/local/lib/python3.11/dist-packages (from imbalanced-learn>=0.12.0->pycaret[full]) (3.5.0)\n",
            "Requirement already satisfied: zipp>=3.20 in /usr/local/lib/python3.11/dist-packages (from importlib-metadata>=4.12.0->pycaret[full]) (3.21.0)\n",
            "Collecting interpret-core==0.6.9 (from interpret-core[aplr,dash,debug,linear,notebook,plotly,sensitivity,shap]==0.6.9->interpret>=0.2.7->pycaret[full])\n",
            "  Downloading interpret_core-0.6.9-py3-none-any.whl.metadata (2.8 kB)\n",
            "Requirement already satisfied: ipykernel>=4.10.0 in /usr/local/lib/python3.11/dist-packages (from interpret-core[aplr,dash,debug,linear,notebook,plotly,sensitivity,shap]==0.6.9->interpret>=0.2.7->pycaret[full]) (6.17.1)\n",
            "Collecting SALib>=1.3.3 (from interpret-core[aplr,dash,debug,linear,notebook,plotly,sensitivity,shap]==0.6.9->interpret>=0.2.7->pycaret[full])\n",
            "  Downloading salib-1.5.1-py3-none-any.whl.metadata (11 kB)\n",
            "Collecting dill>=0.2.5 (from interpret-core[aplr,dash,debug,linear,notebook,plotly,sensitivity,shap]==0.6.9->interpret>=0.2.7->pycaret[full])\n",
            "  Downloading dill-0.3.9-py3-none-any.whl.metadata (10 kB)\n",
            "Collecting aplr>=10.6.1 (from interpret-core[aplr,dash,debug,linear,notebook,plotly,sensitivity,shap]==0.6.9->interpret>=0.2.7->pycaret[full])\n",
            "  Downloading aplr-10.8.0-cp311-cp311-manylinux_2_17_x86_64.manylinux2014_x86_64.whl.metadata (2.1 kB)\n",
            "Collecting dash-core-components>=1.0.0 (from interpret-core[aplr,dash,debug,linear,notebook,plotly,sensitivity,shap]==0.6.9->interpret>=0.2.7->pycaret[full])\n",
            "  Downloading dash_core_components-2.0.0-py3-none-any.whl.metadata (2.9 kB)\n",
            "Collecting dash-html-components>=1.0.0 (from interpret-core[aplr,dash,debug,linear,notebook,plotly,sensitivity,shap]==0.6.9->interpret>=0.2.7->pycaret[full])\n",
            "  Downloading dash_html_components-2.0.0-py3-none-any.whl.metadata (3.8 kB)\n",
            "Collecting dash-table>=4.1.0 (from interpret-core[aplr,dash,debug,linear,notebook,plotly,sensitivity,shap]==0.6.9->interpret>=0.2.7->pycaret[full])\n",
            "  Downloading dash_table-5.0.0-py3-none-any.whl.metadata (2.4 kB)\n",
            "Collecting dash-cytoscape>=0.1.1 (from interpret-core[aplr,dash,debug,linear,notebook,plotly,sensitivity,shap]==0.6.9->interpret>=0.2.7->pycaret[full])\n",
            "  Downloading dash_cytoscape-1.0.2.tar.gz (4.0 MB)\n",
            "\u001b[2K     \u001b[90m━━━━━━━━━━━━━━━━━━━━━━━━━━━━━━━━━━━━━━━━\u001b[0m \u001b[32m4.0/4.0 MB\u001b[0m \u001b[31m54.8 MB/s\u001b[0m eta \u001b[36m0:00:00\u001b[0m\n",
            "\u001b[?25h  Preparing metadata (setup.py) ... \u001b[?25l\u001b[?25hdone\n",
            "Collecting gevent>=1.3.6 (from interpret-core[aplr,dash,debug,linear,notebook,plotly,sensitivity,shap]==0.6.9->interpret>=0.2.7->pycaret[full])\n",
            "  Downloading gevent-24.11.1-cp311-cp311-manylinux_2_17_x86_64.manylinux2014_x86_64.whl.metadata (13 kB)\n",
            "Requirement already satisfied: setuptools>=18.5 in /usr/local/lib/python3.11/dist-packages (from ipython>=5.5.0->pycaret[full]) (75.1.0)\n",
            "Collecting jedi>=0.16 (from ipython>=5.5.0->pycaret[full])\n",
            "  Downloading jedi-0.19.2-py2.py3-none-any.whl.metadata (22 kB)\n",
            "Requirement already satisfied: decorator in /usr/local/lib/python3.11/dist-packages (from ipython>=5.5.0->pycaret[full]) (4.4.2)\n",
            "Requirement already satisfied: pickleshare in /usr/local/lib/python3.11/dist-packages (from ipython>=5.5.0->pycaret[full]) (0.7.5)\n",
            "Requirement already satisfied: traitlets>=4.2 in /usr/local/lib/python3.11/dist-packages (from ipython>=5.5.0->pycaret[full]) (5.7.1)\n",
            "Requirement already satisfied: prompt-toolkit!=3.0.0,!=3.0.1,<3.1.0,>=2.0.0 in /usr/local/lib/python3.11/dist-packages (from ipython>=5.5.0->pycaret[full]) (3.0.50)\n",
            "Requirement already satisfied: pygments in /usr/local/lib/python3.11/dist-packages (from ipython>=5.5.0->pycaret[full]) (2.18.0)\n",
            "Requirement already satisfied: backcall in /usr/local/lib/python3.11/dist-packages (from ipython>=5.5.0->pycaret[full]) (0.2.0)\n",
            "Requirement already satisfied: matplotlib-inline in /usr/local/lib/python3.11/dist-packages (from ipython>=5.5.0->pycaret[full]) (0.1.7)\n",
            "Requirement already satisfied: pexpect>4.3 in /usr/local/lib/python3.11/dist-packages (from ipython>=5.5.0->pycaret[full]) (4.9.0)\n",
            "Requirement already satisfied: ipython-genutils~=0.2.0 in /usr/local/lib/python3.11/dist-packages (from ipywidgets>=7.6.5->pycaret[full]) (0.2.0)\n",
            "Requirement already satisfied: widgetsnbextension~=3.6.0 in /usr/local/lib/python3.11/dist-packages (from ipywidgets>=7.6.5->pycaret[full]) (3.6.10)\n",
            "Requirement already satisfied: jupyterlab-widgets>=1.0.0 in /usr/local/lib/python3.11/dist-packages (from ipywidgets>=7.6.5->pycaret[full]) (3.0.13)\n",
            "Requirement already satisfied: contourpy>=1.0.1 in /usr/local/lib/python3.11/dist-packages (from matplotlib<3.8.0->pycaret[full]) (1.3.1)\n",
            "Requirement already satisfied: cycler>=0.10 in /usr/local/lib/python3.11/dist-packages (from matplotlib<3.8.0->pycaret[full]) (0.12.1)\n",
            "Requirement already satisfied: fonttools>=4.22.0 in /usr/local/lib/python3.11/dist-packages (from matplotlib<3.8.0->pycaret[full]) (4.56.0)\n",
            "Requirement already satisfied: kiwisolver>=1.0.1 in /usr/local/lib/python3.11/dist-packages (from matplotlib<3.8.0->pycaret[full]) (1.4.8)\n",
            "Requirement already satisfied: pyparsing>=2.3.1 in /usr/local/lib/python3.11/dist-packages (from matplotlib<3.8.0->pycaret[full]) (3.2.1)\n",
            "Requirement already satisfied: python-dateutil>=2.7 in /usr/local/lib/python3.11/dist-packages (from matplotlib<3.8.0->pycaret[full]) (2.8.2)\n",
            "Collecting mlflow-skinny==2.20.2 (from mlflow>=2.0.0->pycaret[full])\n",
            "  Downloading mlflow_skinny-2.20.2-py3-none-any.whl.metadata (31 kB)\n",
            "Collecting alembic!=1.10.0,<2 (from mlflow>=2.0.0->pycaret[full])\n",
            "  Downloading alembic-1.14.1-py3-none-any.whl.metadata (7.4 kB)\n",
            "Collecting docker<8,>=4.0.0 (from mlflow>=2.0.0->pycaret[full])\n",
            "  Downloading docker-7.1.0-py3-none-any.whl.metadata (3.8 kB)\n",
            "Collecting graphene<4 (from mlflow>=2.0.0->pycaret[full])\n",
            "  Downloading graphene-3.4.3-py2.py3-none-any.whl.metadata (6.9 kB)\n",
            "Collecting gunicorn<24 (from mlflow>=2.0.0->pycaret[full])\n",
            "  Downloading gunicorn-23.0.0-py3-none-any.whl.metadata (4.4 kB)\n",
            "Requirement already satisfied: markdown<4,>=3.3 in /usr/local/lib/python3.11/dist-packages (from mlflow>=2.0.0->pycaret[full]) (3.7)\n",
            "Requirement already satisfied: pyarrow<19,>=4.0.0 in /usr/local/lib/python3.11/dist-packages (from mlflow>=2.0.0->pycaret[full]) (17.0.0)\n",
            "Requirement already satisfied: sqlalchemy<3,>=1.4.0 in /usr/local/lib/python3.11/dist-packages (from mlflow>=2.0.0->pycaret[full]) (2.0.38)\n",
            "Requirement already satisfied: cachetools<6,>=5.0.0 in /usr/local/lib/python3.11/dist-packages (from mlflow-skinny==2.20.2->mlflow>=2.0.0->pycaret[full]) (5.5.1)\n",
            "Collecting databricks-sdk<1,>=0.20.0 (from mlflow-skinny==2.20.2->mlflow>=2.0.0->pycaret[full])\n",
            "  Downloading databricks_sdk-0.44.1-py3-none-any.whl.metadata (38 kB)\n",
            "Requirement already satisfied: gitpython<4,>=3.1.9 in /usr/local/lib/python3.11/dist-packages (from mlflow-skinny==2.20.2->mlflow>=2.0.0->pycaret[full]) (3.1.44)\n",
            "Requirement already satisfied: opentelemetry-api<3,>=1.9.0 in /usr/local/lib/python3.11/dist-packages (from mlflow-skinny==2.20.2->mlflow>=2.0.0->pycaret[full]) (1.16.0)\n",
            "Requirement already satisfied: opentelemetry-sdk<3,>=1.9.0 in /usr/local/lib/python3.11/dist-packages (from mlflow-skinny==2.20.2->mlflow>=2.0.0->pycaret[full]) (1.16.0)\n",
            "Requirement already satisfied: protobuf<6,>=3.12.0 in /usr/local/lib/python3.11/dist-packages (from mlflow-skinny==2.20.2->mlflow>=2.0.0->pycaret[full]) (4.25.6)\n",
            "Requirement already satisfied: sqlparse<1,>=0.4.0 in /usr/local/lib/python3.11/dist-packages (from mlflow-skinny==2.20.2->mlflow>=2.0.0->pycaret[full]) (0.5.3)\n",
            "INFO: pip is looking at multiple versions of flask to determine which version is compatible with other requirements. This could take a while.\n",
            "Collecting flask (from pycaret[full])\n",
            "  Downloading flask-3.0.3-py3-none-any.whl.metadata (3.2 kB)\n",
            "  Downloading flask-3.0.2-py3-none-any.whl.metadata (3.6 kB)\n",
            "  Downloading flask-3.0.1-py3-none-any.whl.metadata (3.6 kB)\n",
            "  Downloading flask-3.0.0-py3-none-any.whl.metadata (3.6 kB)\n",
            "  Downloading flask-2.3.3-py3-none-any.whl.metadata (3.6 kB)\n",
            "Requirement already satisfied: itsdangerous>=2.1.2 in /usr/local/lib/python3.11/dist-packages (from flask->pycaret[full]) (2.2.0)\n",
            "Requirement already satisfied: blinker>=1.6.2 in /usr/local/lib/python3.11/dist-packages (from flask->pycaret[full]) (1.9.0)\n",
            "Collecting xmltodict (from moto<5.0.0->pycaret[full])\n",
            "  Downloading xmltodict-0.14.2-py2.py3-none-any.whl.metadata (8.0 kB)\n",
            "Collecting responses>=0.13.0 (from moto<5.0.0->pycaret[full])\n",
            "  Downloading responses-0.25.6-py3-none-any.whl.metadata (47 kB)\n",
            "\u001b[2K     \u001b[90m━━━━━━━━━━━━━━━━━━━━━━━━━━━━━━━━━━━━━━━━\u001b[0m \u001b[32m47.1/47.1 kB\u001b[0m \u001b[31m6.0 MB/s\u001b[0m eta \u001b[36m0:00:00\u001b[0m\n",
            "\u001b[?25hRequirement already satisfied: fastjsonschema>=2.15 in /usr/local/lib/python3.11/dist-packages (from nbformat>=4.2.0->pycaret[full]) (2.21.1)\n",
            "Requirement already satisfied: jsonschema>=2.6 in /usr/local/lib/python3.11/dist-packages (from nbformat>=4.2.0->pycaret[full]) (4.23.0)\n",
            "Requirement already satisfied: jupyter-core!=5.0.*,>=4.12 in /usr/local/lib/python3.11/dist-packages (from nbformat>=4.2.0->pycaret[full]) (5.7.2)\n",
            "Requirement already satisfied: llvmlite<0.45,>=0.44.0dev0 in /usr/local/lib/python3.11/dist-packages (from numba>=0.55.0->pycaret[full]) (0.44.0)\n",
            "Collecting colorlog (from optuna>=3.0.0->pycaret[full])\n",
            "  Downloading colorlog-6.9.0-py3-none-any.whl.metadata (10 kB)\n",
            "Requirement already satisfied: pytz>=2020.1 in /usr/local/lib/python3.11/dist-packages (from pandas<2.2.0->pycaret[full]) (2025.1)\n",
            "Requirement already satisfied: tzdata>=2022.1 in /usr/local/lib/python3.11/dist-packages (from pandas<2.2.0->pycaret[full]) (2025.1)\n",
            "Requirement already satisfied: tenacity>=6.2.0 in /usr/local/lib/python3.11/dist-packages (from plotly>=5.14.0->pycaret[full]) (9.0.0)\n",
            "Collecting tsdownsample>=0.1.3 (from plotly-resampler>=0.8.3.1->pycaret[full])\n",
            "  Downloading tsdownsample-0.1.4.1-cp311-cp311-manylinux_2_17_x86_64.manylinux2014_x86_64.whl.metadata (8.0 kB)\n",
            "Requirement already satisfied: Cython!=0.29.18,!=0.29.31,>=0.29 in /usr/local/lib/python3.11/dist-packages (from pmdarima>=2.0.4->pycaret[full]) (3.0.12)\n",
            "Requirement already satisfied: iniconfig in /usr/local/lib/python3.11/dist-packages (from pytest<8.0.0->pycaret[full]) (2.0.0)\n",
            "Requirement already satisfied: pluggy<2.0,>=0.12 in /usr/local/lib/python3.11/dist-packages (from pytest<8.0.0->pycaret[full]) (1.5.0)\n",
            "Requirement already satisfied: charset-normalizer<4,>=2 in /usr/local/lib/python3.11/dist-packages (from requests>=2.27.1->pycaret[full]) (3.4.1)\n",
            "Requirement already satisfied: idna<4,>=2.5 in /usr/local/lib/python3.11/dist-packages (from requests>=2.27.1->pycaret[full]) (3.10)\n",
            "Collecting daal==2025.2.0 (from scikit-learn-intelex>=2023.0.1->pycaret[full])\n",
            "  Downloading daal-2025.2.0-py2.py3-none-manylinux_2_28_x86_64.whl.metadata (1.1 kB)\n",
            "Requirement already satisfied: tbb==2022.* in /usr/local/lib/python3.11/dist-packages (from daal==2025.2.0->scikit-learn-intelex>=2023.0.1->pycaret[full]) (2022.0.0)\n",
            "Requirement already satisfied: tcmlib==1.* in /usr/local/lib/python3.11/dist-packages (from tbb==2022.*->daal==2025.2.0->scikit-learn-intelex>=2023.0.1->pycaret[full]) (1.2.0)\n",
            "Collecting pyaml>=16.9 (from scikit-optimize>=0.9.0->pycaret[full])\n",
            "  Downloading pyaml-25.1.0-py3-none-any.whl.metadata (12 kB)\n",
            "Collecting slicer==0.0.7 (from shap~=0.44.0->pycaret[full])\n",
            "  Downloading slicer-0.0.7-py3-none-any.whl.metadata (3.7 kB)\n",
            "Collecting pynndescent>=0.5 (from umap-learn>=0.5.2->pycaret[full])\n",
            "  Downloading pynndescent-0.5.13-py3-none-any.whl.metadata (6.8 kB)\n",
            "Requirement already satisfied: h11>=0.8 in /usr/local/lib/python3.11/dist-packages (from uvicorn>=0.17.6->pycaret[full]) (0.14.0)\n",
            "Requirement already satisfied: nvidia-nccl-cu12 in /usr/local/lib/python3.11/dist-packages (from xgboost>=1.1.0->pycaret[full]) (2.21.5)\n",
            "Collecting visions<0.8.0,>=0.7.5 (from visions[type_image_path]<0.8.0,>=0.7.5->ydata-profiling>=4.3.1->pycaret[full])\n",
            "  Downloading visions-0.7.6-py3-none-any.whl.metadata (11 kB)\n",
            "Collecting htmlmin==0.1.12 (from ydata-profiling>=4.3.1->pycaret[full])\n",
            "  Downloading htmlmin-0.1.12.tar.gz (19 kB)\n",
            "  Preparing metadata (setup.py) ... \u001b[?25l\u001b[?25hdone\n",
            "Collecting phik<0.13,>=0.11.1 (from ydata-profiling>=4.3.1->pycaret[full])\n",
            "  Downloading phik-0.12.4-cp311-cp311-manylinux_2_17_x86_64.manylinux2014_x86_64.whl.metadata (5.6 kB)\n",
            "Requirement already satisfied: seaborn<0.14,>=0.10.1 in /usr/local/lib/python3.11/dist-packages (from ydata-profiling>=4.3.1->pycaret[full]) (0.13.2)\n",
            "Collecting multimethod<2,>=1.4 (from ydata-profiling>=4.3.1->pycaret[full])\n",
            "  Downloading multimethod-1.12-py3-none-any.whl.metadata (9.6 kB)\n",
            "Requirement already satisfied: typeguard<5,>=3 in /usr/local/lib/python3.11/dist-packages (from ydata-profiling>=4.3.1->pycaret[full]) (4.4.1)\n",
            "Collecting imagehash==4.3.1 (from ydata-profiling>=4.3.1->pycaret[full])\n",
            "  Downloading ImageHash-4.3.1-py2.py3-none-any.whl.metadata (8.0 kB)\n",
            "Requirement already satisfied: wordcloud>=1.9.3 in /usr/local/lib/python3.11/dist-packages (from ydata-profiling>=4.3.1->pycaret[full]) (1.9.4)\n",
            "Collecting dacite>=1.8 (from ydata-profiling>=4.3.1->pycaret[full])\n",
            "  Downloading dacite-1.9.2-py3-none-any.whl.metadata (17 kB)\n",
            "Collecting PyWavelets (from imagehash==4.3.1->ydata-profiling>=4.3.1->pycaret[full])\n",
            "  Downloading pywavelets-1.8.0-cp311-cp311-manylinux_2_17_x86_64.manylinux2014_x86_64.whl.metadata (9.0 kB)\n",
            "Collecting retrying (from dash[testing]; extra == \"full\"->pycaret[full])\n",
            "  Downloading retrying-1.3.4-py3-none-any.whl.metadata (6.9 kB)\n",
            "Requirement already satisfied: nest-asyncio in /usr/local/lib/python3.11/dist-packages (from dash[testing]; extra == \"full\"->pycaret[full]) (1.6.0)\n",
            "Requirement already satisfied: beautifulsoup4>=4.8.2 in /usr/local/lib/python3.11/dist-packages (from dash[testing]; extra == \"full\"->pycaret[full]) (4.13.3)\n",
            "Requirement already satisfied: lxml>=4.6.2 in /usr/local/lib/python3.11/dist-packages (from dash[testing]; extra == \"full\"->pycaret[full]) (5.3.1)\n",
            "Collecting percy>=2.0.2 (from dash[testing]; extra == \"full\"->pycaret[full])\n",
            "  Downloading percy-2.0.2-py2.py3-none-any.whl.metadata (821 bytes)\n",
            "Collecting selenium<=4.2.0,>=3.141.0 (from dash[testing]; extra == \"full\"->pycaret[full])\n",
            "  Downloading selenium-4.2.0-py3-none-any.whl.metadata (6.5 kB)\n",
            "Collecting multiprocess>=0.70.12 (from dash[testing]; extra == \"full\"->pycaret[full])\n",
            "  Downloading multiprocess-0.70.17-py311-none-any.whl.metadata (7.2 kB)\n",
            "Collecting dash-testing-stub>=0.0.2 (from dash[testing]; extra == \"full\"->pycaret[full])\n",
            "  Downloading dash_testing_stub-0.0.2-py3-none-any.whl.metadata (587 bytes)\n",
            "Collecting Mako (from alembic!=1.10.0,<2->mlflow>=2.0.0->pycaret[full])\n",
            "  Downloading Mako-1.3.9-py3-none-any.whl.metadata (2.9 kB)\n",
            "Requirement already satisfied: sniffio>=1.1 in /usr/local/lib/python3.11/dist-packages (from anyio<5.0,>=3.0->gradio>=3.50.2->pycaret[full]) (1.3.1)\n",
            "Requirement already satisfied: soupsieve>1.2 in /usr/local/lib/python3.11/dist-packages (from beautifulsoup4>=4.8.2->dash[testing]; extra == \"full\"->pycaret[full]) (2.6)\n",
            "Requirement already satisfied: cffi>=1.12 in /usr/local/lib/python3.11/dist-packages (from cryptography>=43.0.1->evidently~=0.4.16->pycaret[full]) (1.17.1)\n",
            "Requirement already satisfied: colour in /usr/local/lib/python3.11/dist-packages (from dtreeviz>=2.1->explainerdashboard>=0.3.8->pycaret[full]) (0.1.5)\n",
            "Collecting wtforms (from Flask-WTF>=1.1->explainerdashboard>=0.3.8->pycaret[full])\n",
            "  Downloading wtforms-3.2.1-py3-none-any.whl.metadata (5.3 kB)\n",
            "Collecting antlr4-python3-runtime<4.12 (from fugue-sql-antlr>=0.1.6->fugue~=0.8.0->pycaret[full])\n",
            "  Downloading antlr4_python3_runtime-4.11.1-py3-none-any.whl.metadata (291 bytes)\n",
            "Collecting graphql-core<3.3,>=3.1 (from graphene<4->mlflow>=2.0.0->pycaret[full])\n",
            "  Downloading graphql_core-3.2.6-py3-none-any.whl.metadata (11 kB)\n",
            "Collecting graphql-relay<3.3,>=3.1 (from graphene<4->mlflow>=2.0.0->pycaret[full])\n",
            "  Downloading graphql_relay-3.2.0-py3-none-any.whl.metadata (12 kB)\n",
            "Requirement already satisfied: httpcore==1.* in /usr/local/lib/python3.11/dist-packages (from httpx>=0.24.1->gradio>=3.50.2->pycaret[full]) (1.0.7)\n",
            "Requirement already satisfied: filelock in /usr/local/lib/python3.11/dist-packages (from huggingface-hub>=0.28.1->gradio>=3.50.2->pycaret[full]) (3.17.0)\n",
            "Requirement already satisfied: debugpy>=1.0 in /usr/local/lib/python3.11/dist-packages (from ipykernel>=4.10.0->interpret-core[aplr,dash,debug,linear,notebook,plotly,sensitivity,shap]==0.6.9->interpret>=0.2.7->pycaret[full]) (1.8.0)\n",
            "Requirement already satisfied: jupyter-client>=6.1.12 in /usr/local/lib/python3.11/dist-packages (from ipykernel>=4.10.0->interpret-core[aplr,dash,debug,linear,notebook,plotly,sensitivity,shap]==0.6.9->interpret>=0.2.7->pycaret[full]) (6.1.12)\n",
            "Requirement already satisfied: pyzmq>=17 in /usr/local/lib/python3.11/dist-packages (from ipykernel>=4.10.0->interpret-core[aplr,dash,debug,linear,notebook,plotly,sensitivity,shap]==0.6.9->interpret>=0.2.7->pycaret[full]) (24.0.1)\n",
            "Collecting appdirs (from iterative-telemetry>=0.0.5->evidently~=0.4.16->pycaret[full])\n",
            "  Downloading appdirs-1.4.4-py2.py3-none-any.whl.metadata (9.0 kB)\n",
            "Requirement already satisfied: distro in /usr/local/lib/python3.11/dist-packages (from iterative-telemetry>=0.0.5->evidently~=0.4.16->pycaret[full]) (1.9.0)\n",
            "Requirement already satisfied: parso<0.9.0,>=0.8.4 in /usr/local/lib/python3.11/dist-packages (from jedi>=0.16->ipython>=5.5.0->pycaret[full]) (0.8.4)\n",
            "Requirement already satisfied: attrs>=22.2.0 in /usr/local/lib/python3.11/dist-packages (from jsonschema>=2.6->nbformat>=4.2.0->pycaret[full]) (25.1.0)\n",
            "Requirement already satisfied: jsonschema-specifications>=2023.03.6 in /usr/local/lib/python3.11/dist-packages (from jsonschema>=2.6->nbformat>=4.2.0->pycaret[full]) (2024.10.1)\n",
            "Requirement already satisfied: referencing>=0.28.4 in /usr/local/lib/python3.11/dist-packages (from jsonschema>=2.6->nbformat>=4.2.0->pycaret[full]) (0.36.2)\n",
            "Requirement already satisfied: rpds-py>=0.7.1 in /usr/local/lib/python3.11/dist-packages (from jsonschema>=2.6->nbformat>=4.2.0->pycaret[full]) (0.22.3)\n",
            "Requirement already satisfied: platformdirs>=2.5 in /usr/local/lib/python3.11/dist-packages (from jupyter-core!=5.0.*,>=4.12->nbformat>=4.2.0->pycaret[full]) (4.3.6)\n",
            "Collecting ansi2html (from jupyter_dash>=0.4.1->explainerdashboard>=0.3.8->pycaret[full])\n",
            "  Downloading ansi2html-1.9.2-py3-none-any.whl.metadata (3.7 kB)\n",
            "Collecting litestar-htmx>=0.4.0 (from litestar>=2.8.3->evidently~=0.4.16->pycaret[full])\n",
            "  Downloading litestar_htmx-0.4.1-py3-none-any.whl.metadata (2.0 kB)\n",
            "Collecting msgspec>=0.18.2 (from litestar>=2.8.3->evidently~=0.4.16->pycaret[full])\n",
            "  Downloading msgspec-0.19.0-cp311-cp311-manylinux_2_17_x86_64.manylinux2014_x86_64.whl.metadata (6.9 kB)\n",
            "Requirement already satisfied: multidict>=6.0.2 in /usr/local/lib/python3.11/dist-packages (from litestar>=2.8.3->evidently~=0.4.16->pycaret[full]) (6.1.0)\n",
            "Collecting multipart>=1.2.0 (from litestar>=2.8.3->evidently~=0.4.16->pycaret[full])\n",
            "  Downloading multipart-1.2.1-py3-none-any.whl.metadata (4.4 kB)\n",
            "Collecting polyfactory>=2.6.3 (from litestar>=2.8.3->evidently~=0.4.16->pycaret[full])\n",
            "  Downloading polyfactory-2.19.0-py3-none-any.whl.metadata (27 kB)\n",
            "Collecting rich-click (from litestar>=2.8.3->evidently~=0.4.16->pycaret[full])\n",
            "  Downloading rich_click-1.8.6-py3-none-any.whl.metadata (7.9 kB)\n",
            "Requirement already satisfied: regex>=2021.8.3 in /usr/local/lib/python3.11/dist-packages (from nltk>=3.6.7->evidently~=0.4.16->pycaret[full]) (2024.11.6)\n",
            "Requirement already satisfied: ptyprocess>=0.5 in /usr/local/lib/python3.11/dist-packages (from pexpect>4.3->ipython>=5.5.0->pycaret[full]) (0.7.0)\n",
            "Requirement already satisfied: wcwidth in /usr/local/lib/python3.11/dist-packages (from prompt-toolkit!=3.0.0,!=3.0.1,<3.1.0,>=2.0.0->ipython>=5.5.0->pycaret[full]) (0.2.13)\n",
            "Requirement already satisfied: annotated-types>=0.6.0 in /usr/local/lib/python3.11/dist-packages (from pydantic>=1.10.13->evidently~=0.4.16->pycaret[full]) (0.7.0)\n",
            "Requirement already satisfied: pydantic-core==2.27.2 in /usr/local/lib/python3.11/dist-packages (from pydantic>=1.10.13->evidently~=0.4.16->pycaret[full]) (2.27.2)\n",
            "Requirement already satisfied: markdown-it-py>=2.2.0 in /usr/local/lib/python3.11/dist-packages (from rich>=13->evidently~=0.4.16->pycaret[full]) (3.0.0)\n",
            "Collecting urllib3>=1.26.5 (from distributed>=2024.4.1->pycaret[full])\n",
            "  Downloading urllib3-1.26.20-py2.py3-none-any.whl.metadata (50 kB)\n",
            "\u001b[2K     \u001b[90m━━━━━━━━━━━━━━━━━━━━━━━━━━━━━━━━━━━━━━━━\u001b[0m \u001b[32m50.1/50.1 kB\u001b[0m \u001b[31m5.7 MB/s\u001b[0m eta \u001b[36m0:00:00\u001b[0m\n",
            "\u001b[?25hCollecting trio~=0.17 (from selenium<=4.2.0,>=3.141.0->dash[testing]; extra == \"full\"->pycaret[full])\n",
            "  Downloading trio-0.29.0-py3-none-any.whl.metadata (8.5 kB)\n",
            "Collecting trio-websocket~=0.9 (from selenium<=4.2.0,>=3.141.0->dash[testing]; extra == \"full\"->pycaret[full])\n",
            "  Downloading trio_websocket-0.12.1-py3-none-any.whl.metadata (5.1 kB)\n",
            "Requirement already satisfied: greenlet!=0.4.17 in /usr/local/lib/python3.11/dist-packages (from sqlalchemy<3,>=1.4.0->mlflow>=2.0.0->pycaret[full]) (3.1.1)\n",
            "Collecting fs (from triad>=0.9.3->fugue~=0.8.0->pycaret[full])\n",
            "  Downloading fs-2.4.16-py2.py3-none-any.whl.metadata (6.3 kB)\n",
            "Requirement already satisfied: shellingham>=1.3.0 in /usr/local/lib/python3.11/dist-packages (from typer>=0.3->evidently~=0.4.16->pycaret[full]) (1.5.4)\n",
            "Collecting mypy-extensions>=0.3.0 (from typing-inspect>=0.9.0->evidently~=0.4.16->pycaret[full])\n",
            "  Downloading mypy_extensions-1.0.0-py3-none-any.whl.metadata (1.1 kB)\n",
            "Collecting httptools>=0.6.3 (from uvicorn[standard]>=0.22.0->evidently~=0.4.16->pycaret[full])\n",
            "  Downloading httptools-0.6.4-cp311-cp311-manylinux_2_5_x86_64.manylinux1_x86_64.manylinux_2_17_x86_64.manylinux2014_x86_64.whl.metadata (3.6 kB)\n",
            "Collecting python-dotenv>=0.13 (from uvicorn[standard]>=0.22.0->evidently~=0.4.16->pycaret[full])\n",
            "  Downloading python_dotenv-1.0.1-py3-none-any.whl.metadata (23 kB)\n",
            "Collecting uvloop!=0.15.0,!=0.15.1,>=0.14.0 (from uvicorn[standard]>=0.22.0->evidently~=0.4.16->pycaret[full])\n",
            "  Downloading uvloop-0.21.0-cp311-cp311-manylinux_2_17_x86_64.manylinux2014_x86_64.whl.metadata (4.9 kB)\n",
            "Collecting watchfiles>=0.13 (from uvicorn[standard]>=0.22.0->evidently~=0.4.16->pycaret[full])\n",
            "  Downloading watchfiles-1.0.4-cp311-cp311-manylinux_2_17_x86_64.manylinux2014_x86_64.whl.metadata (4.9 kB)\n",
            "Requirement already satisfied: notebook>=4.4.1 in /usr/local/lib/python3.11/dist-packages (from widgetsnbextension~=3.6.0->ipywidgets>=7.6.5->pycaret[full]) (6.5.5)\n",
            "Requirement already satisfied: pycparser in /usr/local/lib/python3.11/dist-packages (from cffi>=1.12->cryptography>=43.0.1->evidently~=0.4.16->pycaret[full]) (2.22)\n",
            "Requirement already satisfied: google-auth~=2.0 in /usr/local/lib/python3.11/dist-packages (from databricks-sdk<1,>=0.20.0->mlflow-skinny==2.20.2->mlflow>=2.0.0->pycaret[full]) (2.27.0)\n",
            "Collecting zope.event (from gevent>=1.3.6->interpret-core[aplr,dash,debug,linear,notebook,plotly,sensitivity,shap]==0.6.9->interpret>=0.2.7->pycaret[full])\n",
            "  Downloading zope.event-5.0-py3-none-any.whl.metadata (4.4 kB)\n",
            "Collecting zope.interface (from gevent>=1.3.6->interpret-core[aplr,dash,debug,linear,notebook,plotly,sensitivity,shap]==0.6.9->interpret>=0.2.7->pycaret[full])\n",
            "  Downloading zope.interface-7.2-cp311-cp311-manylinux_2_5_x86_64.manylinux1_x86_64.manylinux_2_17_x86_64.manylinux2014_x86_64.whl.metadata (44 kB)\n",
            "\u001b[2K     \u001b[90m━━━━━━━━━━━━━━━━━━━━━━━━━━━━━━━━━━━━━━━━\u001b[0m \u001b[32m44.4/44.4 kB\u001b[0m \u001b[31m4.7 MB/s\u001b[0m eta \u001b[36m0:00:00\u001b[0m\n",
            "\u001b[?25hRequirement already satisfied: gitdb<5,>=4.0.1 in /usr/local/lib/python3.11/dist-packages (from gitpython<4,>=3.1.9->mlflow-skinny==2.20.2->mlflow>=2.0.0->pycaret[full]) (4.0.12)\n",
            "Requirement already satisfied: mdurl~=0.1 in /usr/local/lib/python3.11/dist-packages (from markdown-it-py>=2.2.0->rich>=13->evidently~=0.4.16->pycaret[full]) (0.1.2)\n",
            "Requirement already satisfied: argon2-cffi in /usr/local/lib/python3.11/dist-packages (from notebook>=4.4.1->widgetsnbextension~=3.6.0->ipywidgets>=7.6.5->pycaret[full]) (23.1.0)\n",
            "Requirement already satisfied: nbconvert>=5 in /usr/local/lib/python3.11/dist-packages (from notebook>=4.4.1->widgetsnbextension~=3.6.0->ipywidgets>=7.6.5->pycaret[full]) (7.16.6)\n",
            "Requirement already satisfied: Send2Trash>=1.8.0 in /usr/local/lib/python3.11/dist-packages (from notebook>=4.4.1->widgetsnbextension~=3.6.0->ipywidgets>=7.6.5->pycaret[full]) (1.8.3)\n",
            "Requirement already satisfied: terminado>=0.8.3 in /usr/local/lib/python3.11/dist-packages (from notebook>=4.4.1->widgetsnbextension~=3.6.0->ipywidgets>=7.6.5->pycaret[full]) (0.18.1)\n",
            "Requirement already satisfied: prometheus-client in /usr/local/lib/python3.11/dist-packages (from notebook>=4.4.1->widgetsnbextension~=3.6.0->ipywidgets>=7.6.5->pycaret[full]) (0.21.1)\n",
            "Requirement already satisfied: nbclassic>=0.4.7 in /usr/local/lib/python3.11/dist-packages (from notebook>=4.4.1->widgetsnbextension~=3.6.0->ipywidgets>=7.6.5->pycaret[full]) (1.2.0)\n",
            "Requirement already satisfied: deprecated>=1.2.6 in /usr/local/lib/python3.11/dist-packages (from opentelemetry-api<3,>=1.9.0->mlflow-skinny==2.20.2->mlflow>=2.0.0->pycaret[full]) (1.2.18)\n",
            "Requirement already satisfied: opentelemetry-semantic-conventions==0.37b0 in /usr/local/lib/python3.11/dist-packages (from opentelemetry-sdk<3,>=1.9.0->mlflow-skinny==2.20.2->mlflow>=2.0.0->pycaret[full]) (0.37b0)\n",
            "Collecting faker (from polyfactory>=2.6.3->litestar>=2.8.3->evidently~=0.4.16->pycaret[full])\n",
            "  Downloading Faker-36.1.1-py3-none-any.whl.metadata (15 kB)\n",
            "Collecting outcome (from trio~=0.17->selenium<=4.2.0,>=3.141.0->dash[testing]; extra == \"full\"->pycaret[full])\n",
            "  Downloading outcome-1.3.0.post0-py2.py3-none-any.whl.metadata (2.6 kB)\n",
            "Collecting wsproto>=0.14 (from trio-websocket~=0.9->selenium<=4.2.0,>=3.141.0->dash[testing]; extra == \"full\"->pycaret[full])\n",
            "  Downloading wsproto-1.2.0-py3-none-any.whl.metadata (5.6 kB)\n",
            "Requirement already satisfied: pyOpenSSL>=0.14 in /usr/local/lib/python3.11/dist-packages (from urllib3[secure,socks]~=1.26->selenium<=4.2.0,>=3.141.0->dash[testing]; extra == \"full\"->pycaret[full]) (24.2.1)\n",
            "Collecting urllib3-secure-extra (from urllib3[secure,socks]~=1.26->selenium<=4.2.0,>=3.141.0->dash[testing]; extra == \"full\"->pycaret[full])\n",
            "  Downloading urllib3_secure_extra-0.1.0-py2.py3-none-any.whl.metadata (828 bytes)\n",
            "Requirement already satisfied: PySocks!=1.5.7,<2.0,>=1.5.6 in /usr/local/lib/python3.11/dist-packages (from urllib3[secure,socks]~=1.26->selenium<=4.2.0,>=3.141.0->dash[testing]; extra == \"full\"->pycaret[full]) (1.7.1)\n",
            "Requirement already satisfied: wrapt<2,>=1.10 in /usr/local/lib/python3.11/dist-packages (from deprecated>=1.2.6->opentelemetry-api<3,>=1.9.0->mlflow-skinny==2.20.2->mlflow>=2.0.0->pycaret[full]) (1.17.2)\n",
            "Requirement already satisfied: smmap<6,>=3.0.1 in /usr/local/lib/python3.11/dist-packages (from gitdb<5,>=4.0.1->gitpython<4,>=3.1.9->mlflow-skinny==2.20.2->mlflow>=2.0.0->pycaret[full]) (5.0.2)\n",
            "Requirement already satisfied: pyasn1-modules>=0.2.1 in /usr/local/lib/python3.11/dist-packages (from google-auth~=2.0->databricks-sdk<1,>=0.20.0->mlflow-skinny==2.20.2->mlflow>=2.0.0->pycaret[full]) (0.4.1)\n",
            "Requirement already satisfied: rsa<5,>=3.1.4 in /usr/local/lib/python3.11/dist-packages (from google-auth~=2.0->databricks-sdk<1,>=0.20.0->mlflow-skinny==2.20.2->mlflow>=2.0.0->pycaret[full]) (4.9)\n",
            "Requirement already satisfied: notebook-shim>=0.2.3 in /usr/local/lib/python3.11/dist-packages (from nbclassic>=0.4.7->notebook>=4.4.1->widgetsnbextension~=3.6.0->ipywidgets>=7.6.5->pycaret[full]) (0.2.4)\n",
            "Requirement already satisfied: bleach!=5.0.0 in /usr/local/lib/python3.11/dist-packages (from bleach[css]!=5.0.0->nbconvert>=5->notebook>=4.4.1->widgetsnbextension~=3.6.0->ipywidgets>=7.6.5->pycaret[full]) (6.2.0)\n",
            "Requirement already satisfied: defusedxml in /usr/local/lib/python3.11/dist-packages (from nbconvert>=5->notebook>=4.4.1->widgetsnbextension~=3.6.0->ipywidgets>=7.6.5->pycaret[full]) (0.7.1)\n",
            "Requirement already satisfied: jupyterlab-pygments in /usr/local/lib/python3.11/dist-packages (from nbconvert>=5->notebook>=4.4.1->widgetsnbextension~=3.6.0->ipywidgets>=7.6.5->pycaret[full]) (0.3.0)\n",
            "Requirement already satisfied: mistune<4,>=2.0.3 in /usr/local/lib/python3.11/dist-packages (from nbconvert>=5->notebook>=4.4.1->widgetsnbextension~=3.6.0->ipywidgets>=7.6.5->pycaret[full]) (3.1.1)\n",
            "Requirement already satisfied: nbclient>=0.5.0 in /usr/local/lib/python3.11/dist-packages (from nbconvert>=5->notebook>=4.4.1->widgetsnbextension~=3.6.0->ipywidgets>=7.6.5->pycaret[full]) (0.10.2)\n",
            "Requirement already satisfied: pandocfilters>=1.4.1 in /usr/local/lib/python3.11/dist-packages (from nbconvert>=5->notebook>=4.4.1->widgetsnbextension~=3.6.0->ipywidgets>=7.6.5->pycaret[full]) (1.5.1)\n",
            "Requirement already satisfied: argon2-cffi-bindings in /usr/local/lib/python3.11/dist-packages (from argon2-cffi->notebook>=4.4.1->widgetsnbextension~=3.6.0->ipywidgets>=7.6.5->pycaret[full]) (21.2.0)\n",
            "Requirement already satisfied: webencodings in /usr/local/lib/python3.11/dist-packages (from bleach!=5.0.0->bleach[css]!=5.0.0->nbconvert>=5->notebook>=4.4.1->widgetsnbextension~=3.6.0->ipywidgets>=7.6.5->pycaret[full]) (0.5.1)\n",
            "Requirement already satisfied: tinycss2<1.5,>=1.1.0 in /usr/local/lib/python3.11/dist-packages (from bleach[css]!=5.0.0->nbconvert>=5->notebook>=4.4.1->widgetsnbextension~=3.6.0->ipywidgets>=7.6.5->pycaret[full]) (1.4.0)\n",
            "Requirement already satisfied: jupyter-server<3,>=1.8 in /usr/local/lib/python3.11/dist-packages (from notebook-shim>=0.2.3->nbclassic>=0.4.7->notebook>=4.4.1->widgetsnbextension~=3.6.0->ipywidgets>=7.6.5->pycaret[full]) (1.24.0)\n",
            "Requirement already satisfied: pyasn1<0.7.0,>=0.4.6 in /usr/local/lib/python3.11/dist-packages (from pyasn1-modules>=0.2.1->google-auth~=2.0->databricks-sdk<1,>=0.20.0->mlflow-skinny==2.20.2->mlflow>=2.0.0->pycaret[full]) (0.6.1)\n",
            "Requirement already satisfied: websocket-client in /usr/local/lib/python3.11/dist-packages (from jupyter-server<3,>=1.8->notebook-shim>=0.2.3->nbclassic>=0.4.7->notebook>=4.4.1->widgetsnbextension~=3.6.0->ipywidgets>=7.6.5->pycaret[full]) (1.8.0)\n",
            "Downloading fairlearn-0.7.0-py3-none-any.whl (177 kB)\n",
            "\u001b[2K   \u001b[90m━━━━━━━━━━━━━━━━━━━━━━━━━━━━━━━━━━━━━━━━\u001b[0m \u001b[32m177.5/177.5 kB\u001b[0m \u001b[31m17.6 MB/s\u001b[0m eta \u001b[36m0:00:00\u001b[0m\n",
            "\u001b[?25hDownloading schemdraw-0.15-py3-none-any.whl (106 kB)\n",
            "\u001b[2K   \u001b[90m━━━━━━━━━━━━━━━━━━━━━━━━━━━━━━━━━━━━━━━━\u001b[0m \u001b[32m106.8/106.8 kB\u001b[0m \u001b[31m12.8 MB/s\u001b[0m eta \u001b[36m0:00:00\u001b[0m\n",
            "\u001b[?25hDownloading sktime-0.26.0-py3-none-any.whl (21.8 MB)\n",
            "\u001b[2K   \u001b[90m━━━━━━━━━━━━━━━━━━━━━━━━━━━━━━━━━━━━━━━━\u001b[0m \u001b[32m21.8/21.8 MB\u001b[0m \u001b[31m78.6 MB/s\u001b[0m eta \u001b[36m0:00:00\u001b[0m\n",
            "\u001b[?25hDownloading boto3-1.36.25-py3-none-any.whl (139 kB)\n",
            "\u001b[2K   \u001b[90m━━━━━━━━━━━━━━━━━━━━━━━━━━━━━━━━━━━━━━━━\u001b[0m \u001b[32m139.2/139.2 kB\u001b[0m \u001b[31m16.7 MB/s\u001b[0m eta \u001b[36m0:00:00\u001b[0m\n",
            "\u001b[?25hDownloading catboost-1.2.7-cp311-cp311-manylinux2014_x86_64.whl (98.7 MB)\n",
            "\u001b[2K   \u001b[90m━━━━━━━━━━━━━━━━━━━━━━━━━━━━━━━━━━━━━━━━\u001b[0m \u001b[32m98.7/98.7 MB\u001b[0m \u001b[31m8.7 MB/s\u001b[0m eta \u001b[36m0:00:00\u001b[0m\n",
            "\u001b[?25hDownloading category_encoders-2.7.0-py3-none-any.whl (85 kB)\n",
            "\u001b[2K   \u001b[90m━━━━━━━━━━━━━━━━━━━━━━━━━━━━━━━━━━━━━━━━\u001b[0m \u001b[32m85.4/85.4 kB\u001b[0m \u001b[31m8.8 MB/s\u001b[0m eta \u001b[36m0:00:00\u001b[0m\n",
            "\u001b[?25hDownloading deprecation-2.1.0-py2.py3-none-any.whl (11 kB)\n",
            "Downloading distributed-2025.2.0-py3-none-any.whl (1.0 MB)\n",
            "\u001b[2K   \u001b[90m━━━━━━━━━━━━━━━━━━━━━━━━━━━━━━━━━━━━━━━━\u001b[0m \u001b[32m1.0/1.0 MB\u001b[0m \u001b[31m73.8 MB/s\u001b[0m eta \u001b[36m0:00:00\u001b[0m\n",
            "\u001b[?25hDownloading dask-2025.2.0-py3-none-any.whl (1.4 MB)\n",
            "\u001b[2K   \u001b[90m━━━━━━━━━━━━━━━━━━━━━━━━━━━━━━━━━━━━━━━━\u001b[0m \u001b[32m1.4/1.4 MB\u001b[0m \u001b[31m87.6 MB/s\u001b[0m eta \u001b[36m0:00:00\u001b[0m\n",
            "\u001b[?25hDownloading evidently-0.4.40-py3-none-any.whl (3.5 MB)\n",
            "\u001b[2K   \u001b[90m━━━━━━━━━━━━━━━━━━━━━━━━━━━━━━━━━━━━━━━━\u001b[0m \u001b[32m3.5/3.5 MB\u001b[0m \u001b[31m115.7 MB/s\u001b[0m eta \u001b[36m0:00:00\u001b[0m\n",
            "\u001b[?25hDownloading explainerdashboard-0.4.8-py3-none-any.whl (287 kB)\n",
            "\u001b[2K   \u001b[90m━━━━━━━━━━━━━━━━━━━━━━━━━━━━━━━━━━━━━━━━\u001b[0m \u001b[32m287.9/287.9 kB\u001b[0m \u001b[31m32.2 MB/s\u001b[0m eta \u001b[36m0:00:00\u001b[0m\n",
            "\u001b[?25hDownloading fugue-0.8.7-py3-none-any.whl (279 kB)\n",
            "\u001b[2K   \u001b[90m━━━━━━━━━━━━━━━━━━━━━━━━━━━━━━━━━━━━━━━━\u001b[0m \u001b[32m279.8/279.8 kB\u001b[0m \u001b[31m27.0 MB/s\u001b[0m eta \u001b[36m0:00:00\u001b[0m\n",
            "\u001b[?25hDownloading gradio-5.17.0-py3-none-any.whl (62.3 MB)\n",
            "\u001b[2K   \u001b[90m━━━━━━━━━━━━━━━━━━━━━━━━━━━━━━━━━━━━━━━━\u001b[0m \u001b[32m62.3/62.3 MB\u001b[0m \u001b[31m15.2 MB/s\u001b[0m eta \u001b[36m0:00:00\u001b[0m\n",
            "\u001b[?25hDownloading gradio_client-1.7.1-py3-none-any.whl (321 kB)\n",
            "\u001b[2K   \u001b[90m━━━━━━━━━━━━━━━━━━━━━━━━━━━━━━━━━━━━━━━━\u001b[0m \u001b[32m322.0/322.0 kB\u001b[0m \u001b[31m29.8 MB/s\u001b[0m eta \u001b[36m0:00:00\u001b[0m\n",
            "\u001b[?25hDownloading fastapi-0.115.8-py3-none-any.whl (94 kB)\n",
            "\u001b[2K   \u001b[90m━━━━━━━━━━━━━━━━━━━━━━━━━━━━━━━━━━━━━━━━\u001b[0m \u001b[32m94.8/94.8 kB\u001b[0m \u001b[31m11.8 MB/s\u001b[0m eta \u001b[36m0:00:00\u001b[0m\n",
            "\u001b[?25hDownloading interpret-0.6.9-py3-none-any.whl (1.4 kB)\n",
            "Downloading interpret_core-0.6.9-py3-none-any.whl (15.0 MB)\n",
            "\u001b[2K   \u001b[90m━━━━━━━━━━━━━━━━━━━━━━━━━━━━━━━━━━━━━━━━\u001b[0m \u001b[32m15.0/15.0 MB\u001b[0m \u001b[31m102.7 MB/s\u001b[0m eta \u001b[36m0:00:00\u001b[0m\n",
            "\u001b[?25hDownloading joblib-1.3.2-py3-none-any.whl (302 kB)\n",
            "\u001b[2K   \u001b[90m━━━━━━━━━━━━━━━━━━━━━━━━━━━━━━━━━━━━━━━━\u001b[0m \u001b[32m302.2/302.2 kB\u001b[0m \u001b[31m33.7 MB/s\u001b[0m eta \u001b[36m0:00:00\u001b[0m\n",
            "\u001b[?25hDownloading kaleido-0.2.1-py2.py3-none-manylinux1_x86_64.whl (79.9 MB)\n",
            "\u001b[2K   \u001b[90m━━━━━━━━━━━━━━━━━━━━━━━━━━━━━━━━━━━━━━━━\u001b[0m \u001b[32m79.9/79.9 MB\u001b[0m \u001b[31m9.7 MB/s\u001b[0m eta \u001b[36m0:00:00\u001b[0m\n",
            "\u001b[?25hDownloading kmodes-0.12.2-py2.py3-none-any.whl (20 kB)\n",
            "Downloading m2cgen-0.10.0-py3-none-any.whl (92 kB)\n",
            "\u001b[2K   \u001b[90m━━━━━━━━━━━━━━━━━━━━━━━━━━━━━━━━━━━━━━━━\u001b[0m \u001b[32m92.2/92.2 kB\u001b[0m \u001b[31m11.3 MB/s\u001b[0m eta \u001b[36m0:00:00\u001b[0m\n",
            "\u001b[?25hDownloading MarkupSafe-2.1.5-cp311-cp311-manylinux_2_17_x86_64.manylinux2014_x86_64.whl (28 kB)\n",
            "Downloading matplotlib-3.7.5-cp311-cp311-manylinux_2_17_x86_64.manylinux2014_x86_64.whl (11.6 MB)\n",
            "\u001b[2K   \u001b[90m━━━━━━━━━━━━━━━━━━━━━━━━━━━━━━━━━━━━━━━━\u001b[0m \u001b[32m11.6/11.6 MB\u001b[0m \u001b[31m118.0 MB/s\u001b[0m eta \u001b[36m0:00:00\u001b[0m\n",
            "\u001b[?25hDownloading mlflow-2.20.2-py3-none-any.whl (28.4 MB)\n",
            "\u001b[2K   \u001b[90m━━━━━━━━━━━━━━━━━━━━━━━━━━━━━━━━━━━━━━━━\u001b[0m \u001b[32m28.4/28.4 MB\u001b[0m \u001b[31m70.0 MB/s\u001b[0m eta \u001b[36m0:00:00\u001b[0m\n",
            "\u001b[?25hDownloading mlflow_skinny-2.20.2-py3-none-any.whl (6.0 MB)\n",
            "\u001b[2K   \u001b[90m━━━━━━━━━━━━━━━━━━━━━━━━━━━━━━━━━━━━━━━━\u001b[0m \u001b[32m6.0/6.0 MB\u001b[0m \u001b[31m129.0 MB/s\u001b[0m eta \u001b[36m0:00:00\u001b[0m\n",
            "\u001b[?25hDownloading flask-2.3.3-py3-none-any.whl (96 kB)\n",
            "\u001b[2K   \u001b[90m━━━━━━━━━━━━━━━━━━━━━━━━━━━━━━━━━━━━━━━━\u001b[0m \u001b[32m96.1/96.1 kB\u001b[0m \u001b[31m12.3 MB/s\u001b[0m eta \u001b[36m0:00:00\u001b[0m\n",
            "\u001b[?25hDownloading moto-4.2.14-py2.py3-none-any.whl (3.3 MB)\n",
            "\u001b[2K   \u001b[90m━━━━━━━━━━━━━━━━━━━━━━━━━━━━━━━━━━━━━━━━\u001b[0m \u001b[32m3.3/3.3 MB\u001b[0m \u001b[31m114.8 MB/s\u001b[0m eta \u001b[36m0:00:00\u001b[0m\n",
            "\u001b[?25hDownloading optuna-4.2.1-py3-none-any.whl (383 kB)\n",
            "\u001b[2K   \u001b[90m━━━━━━━━━━━━━━━━━━━━━━━━━━━━━━━━━━━━━━━━\u001b[0m \u001b[32m383.6/383.6 kB\u001b[0m \u001b[31m41.8 MB/s\u001b[0m eta \u001b[36m0:00:00\u001b[0m\n",
            "\u001b[?25hDownloading pandas-2.1.4-cp311-cp311-manylinux_2_17_x86_64.manylinux2014_x86_64.whl (12.2 MB)\n",
            "\u001b[2K   \u001b[90m━━━━━━━━━━━━━━━━━━━━━━━━━━━━━━━━━━━━━━━━\u001b[0m \u001b[32m12.2/12.2 MB\u001b[0m \u001b[31m113.2 MB/s\u001b[0m eta \u001b[36m0:00:00\u001b[0m\n",
            "\u001b[?25hDownloading plotly_resampler-0.10.0-py3-none-any.whl (80 kB)\n",
            "\u001b[2K   \u001b[90m━━━━━━━━━━━━━━━━━━━━━━━━━━━━━━━━━━━━━━━━\u001b[0m \u001b[32m80.7/80.7 kB\u001b[0m \u001b[31m10.1 MB/s\u001b[0m eta \u001b[36m0:00:00\u001b[0m\n",
            "\u001b[?25hDownloading pmdarima-2.0.4-cp311-cp311-manylinux_2_17_x86_64.manylinux2014_x86_64.manylinux_2_28_x86_64.whl (2.2 MB)\n",
            "\u001b[2K   \u001b[90m━━━━━━━━━━━━━━━━━━━━━━━━━━━━━━━━━━━━━━━━\u001b[0m \u001b[32m2.2/2.2 MB\u001b[0m \u001b[31m95.1 MB/s\u001b[0m eta \u001b[36m0:00:00\u001b[0m\n",
            "\u001b[?25hDownloading pytest-7.4.4-py3-none-any.whl (325 kB)\n",
            "\u001b[2K   \u001b[90m━━━━━━━━━━━━━━━━━━━━━━━━━━━━━━━━━━━━━━━━\u001b[0m \u001b[32m325.3/325.3 kB\u001b[0m \u001b[31m36.3 MB/s\u001b[0m eta \u001b[36m0:00:00\u001b[0m\n",
            "\u001b[?25hDownloading scikit_learn-1.4.2-cp311-cp311-manylinux_2_17_x86_64.manylinux2014_x86_64.whl (12.1 MB)\n",
            "\u001b[2K   \u001b[90m━━━━━━━━━━━━━━━━━━━━━━━━━━━━━━━━━━━━━━━━\u001b[0m \u001b[32m12.1/12.1 MB\u001b[0m \u001b[31m108.6 MB/s\u001b[0m eta \u001b[36m0:00:00\u001b[0m\n",
            "\u001b[?25hDownloading scikit_learn_intelex-2025.2.0-py311-none-manylinux_2_28_x86_64.whl (4.5 MB)\n",
            "\u001b[2K   \u001b[90m━━━━━━━━━━━━━━━━━━━━━━━━━━━━━━━━━━━━━━━━\u001b[0m \u001b[32m4.5/4.5 MB\u001b[0m \u001b[31m122.0 MB/s\u001b[0m eta \u001b[36m0:00:00\u001b[0m\n",
            "\u001b[?25hDownloading daal-2025.2.0-py2.py3-none-manylinux_2_28_x86_64.whl (91.4 MB)\n",
            "\u001b[2K   \u001b[90m━━━━━━━━━━━━━━━━━━━━━━━━━━━━━━━━━━━━━━━━\u001b[0m \u001b[32m91.4/91.4 MB\u001b[0m \u001b[31m8.6 MB/s\u001b[0m eta \u001b[36m0:00:00\u001b[0m\n",
            "\u001b[?25hDownloading scikit_optimize-0.10.2-py2.py3-none-any.whl (107 kB)\n",
            "\u001b[2K   \u001b[90m━━━━━━━━━━━━━━━━━━━━━━━━━━━━━━━━━━━━━━━━\u001b[0m \u001b[32m107.8/107.8 kB\u001b[0m \u001b[31m11.8 MB/s\u001b[0m eta \u001b[36m0:00:00\u001b[0m\n",
            "\u001b[?25hDownloading scikit_plot-0.3.7-py3-none-any.whl (33 kB)\n",
            "Downloading scipy-1.11.4-cp311-cp311-manylinux_2_17_x86_64.manylinux2014_x86_64.whl (36.4 MB)\n",
            "\u001b[2K   \u001b[90m━━━━━━━━━━━━━━━━━━━━━━━━━━━━━━━━━━━━━━━━\u001b[0m \u001b[32m36.4/36.4 MB\u001b[0m \u001b[31m58.5 MB/s\u001b[0m eta \u001b[36m0:00:00\u001b[0m\n",
            "\u001b[?25hDownloading shap-0.44.1-cp311-cp311-manylinux_2_12_x86_64.manylinux2010_x86_64.manylinux_2_17_x86_64.manylinux2014_x86_64.whl (535 kB)\n",
            "\u001b[2K   \u001b[90m━━━━━━━━━━━━━━━━━━━━━━━━━━━━━━━━━━━━━━━━\u001b[0m \u001b[32m535.8/535.8 kB\u001b[0m \u001b[31m45.8 MB/s\u001b[0m eta \u001b[36m0:00:00\u001b[0m\n",
            "\u001b[?25hDownloading slicer-0.0.7-py3-none-any.whl (14 kB)\n",
            "Downloading statsforecast-1.5.0-py3-none-any.whl (99 kB)\n",
            "\u001b[2K   \u001b[90m━━━━━━━━━━━━━━━━━━━━━━━━━━━━━━━━━━━━━━━━\u001b[0m \u001b[32m100.0/100.0 kB\u001b[0m \u001b[31m11.7 MB/s\u001b[0m eta \u001b[36m0:00:00\u001b[0m\n",
            "\u001b[?25hDownloading tbats-1.1.3-py3-none-any.whl (44 kB)\n",
            "\u001b[2K   \u001b[90m━━━━━━━━━━━━━━━━━━━━━━━━━━━━━━━━━━━━━━━━\u001b[0m \u001b[32m44.0/44.0 kB\u001b[0m \u001b[31m4.8 MB/s\u001b[0m eta \u001b[36m0:00:00\u001b[0m\n",
            "\u001b[?25hDownloading umap_learn-0.5.7-py3-none-any.whl (88 kB)\n",
            "\u001b[2K   \u001b[90m━━━━━━━━━━━━━━━━━━━━━━━━━━━━━━━━━━━━━━━━\u001b[0m \u001b[32m88.8/88.8 kB\u001b[0m \u001b[31m10.7 MB/s\u001b[0m eta \u001b[36m0:00:00\u001b[0m\n",
            "\u001b[?25hDownloading uvicorn-0.34.0-py3-none-any.whl (62 kB)\n",
            "\u001b[2K   \u001b[90m━━━━━━━━━━━━━━━━━━━━━━━━━━━━━━━━━━━━━━━━\u001b[0m \u001b[32m62.3/62.3 kB\u001b[0m \u001b[31m7.3 MB/s\u001b[0m eta \u001b[36m0:00:00\u001b[0m\n",
            "\u001b[?25hDownloading werkzeug-2.3.8-py3-none-any.whl (242 kB)\n",
            "\u001b[2K   \u001b[90m━━━━━━━━━━━━━━━━━━━━━━━━━━━━━━━━━━━━━━━━\u001b[0m \u001b[32m242.3/242.3 kB\u001b[0m \u001b[31m25.1 MB/s\u001b[0m eta \u001b[36m0:00:00\u001b[0m\n",
            "\u001b[?25hDownloading ydata_profiling-4.12.2-py2.py3-none-any.whl (390 kB)\n",
            "\u001b[2K   \u001b[90m━━━━━━━━━━━━━━━━━━━━━━━━━━━━━━━━━━━━━━━━\u001b[0m \u001b[32m390.9/390.9 kB\u001b[0m \u001b[31m39.0 MB/s\u001b[0m eta \u001b[36m0:00:00\u001b[0m\n",
            "\u001b[?25hDownloading ImageHash-4.3.1-py2.py3-none-any.whl (296 kB)\n",
            "\u001b[2K   \u001b[90m━━━━━━━━━━━━━━━━━━━━━━━━━━━━━━━━━━━━━━━━\u001b[0m \u001b[32m296.5/296.5 kB\u001b[0m \u001b[31m30.7 MB/s\u001b[0m eta \u001b[36m0:00:00\u001b[0m\n",
            "\u001b[?25hDownloading dash_core_components-2.0.0-py3-none-any.whl (3.8 kB)\n",
            "Downloading dash_html_components-2.0.0-py3-none-any.whl (4.1 kB)\n",
            "Downloading dash_table-5.0.0-py3-none-any.whl (3.9 kB)\n",
            "Downloading optuna_integration-4.2.1-py3-none-any.whl (97 kB)\n",
            "\u001b[2K   \u001b[90m━━━━━━━━━━━━━━━━━━━━━━━━━━━━━━━━━━━━━━━━\u001b[0m \u001b[32m97.6/97.6 kB\u001b[0m \u001b[31m11.6 MB/s\u001b[0m eta \u001b[36m0:00:00\u001b[0m\n",
            "\u001b[?25hDownloading pycaret-3.3.2-py3-none-any.whl (486 kB)\n",
            "\u001b[2K   \u001b[90m━━━━━━━━━━━━━━━━━━━━━━━━━━━━━━━━━━━━━━━━\u001b[0m \u001b[32m486.1/486.1 kB\u001b[0m \u001b[31m38.8 MB/s\u001b[0m eta \u001b[36m0:00:00\u001b[0m\n",
            "\u001b[?25hDownloading wurlitzer-3.1.1-py3-none-any.whl (8.6 kB)\n",
            "Downloading xxhash-3.5.0-cp311-cp311-manylinux_2_17_x86_64.manylinux2014_x86_64.whl (194 kB)\n",
            "\u001b[2K   \u001b[90m━━━━━━━━━━━━━━━━━━━━━━━━━━━━━━━━━━━━━━━━\u001b[0m \u001b[32m194.8/194.8 kB\u001b[0m \u001b[31m22.4 MB/s\u001b[0m eta \u001b[36m0:00:00\u001b[0m\n",
            "\u001b[?25hDownloading adagio-0.2.6-py3-none-any.whl (19 kB)\n",
            "Downloading aiofiles-23.2.1-py3-none-any.whl (15 kB)\n",
            "Downloading alembic-1.14.1-py3-none-any.whl (233 kB)\n",
            "\u001b[2K   \u001b[90m━━━━━━━━━━━━━━━━━━━━━━━━━━━━━━━━━━━━━━━━\u001b[0m \u001b[32m233.6/233.6 kB\u001b[0m \u001b[31m25.9 MB/s\u001b[0m eta \u001b[36m0:00:00\u001b[0m\n",
            "\u001b[?25hDownloading botocore-1.36.25-py3-none-any.whl (13.4 MB)\n",
            "\u001b[2K   \u001b[90m━━━━━━━━━━━━━━━━━━━━━━━━━━━━━━━━━━━━━━━━\u001b[0m \u001b[32m13.4/13.4 MB\u001b[0m \u001b[31m109.9 MB/s\u001b[0m eta \u001b[36m0:00:00\u001b[0m\n",
            "\u001b[?25hDownloading dacite-1.9.2-py3-none-any.whl (16 kB)\n",
            "Downloading dash-2.18.2-py3-none-any.whl (7.8 MB)\n",
            "\u001b[2K   \u001b[90m━━━━━━━━━━━━━━━━━━━━━━━━━━━━━━━━━━━━━━━━\u001b[0m \u001b[32m7.8/7.8 MB\u001b[0m \u001b[31m108.9 MB/s\u001b[0m eta \u001b[36m0:00:00\u001b[0m\n",
            "\u001b[?25hDownloading dash_bootstrap_components-1.7.1-py3-none-any.whl (229 kB)\n",
            "\u001b[2K   \u001b[90m━━━━━━━━━━━━━━━━━━━━━━━━━━━━━━━━━━━━━━━━\u001b[0m \u001b[32m229.3/229.3 kB\u001b[0m \u001b[31m27.3 MB/s\u001b[0m eta \u001b[36m0:00:00\u001b[0m\n",
            "\u001b[?25hDownloading dash_testing_stub-0.0.2-py3-none-any.whl (2.6 kB)\n",
            "Downloading docker-7.1.0-py3-none-any.whl (147 kB)\n",
            "\u001b[2K   \u001b[90m━━━━━━━━━━━━━━━━━━━━━━━━━━━━━━━━━━━━━━━━\u001b[0m \u001b[32m147.8/147.8 kB\u001b[0m \u001b[31m17.7 MB/s\u001b[0m eta \u001b[36m0:00:00\u001b[0m\n",
            "\u001b[?25hDownloading dtreeviz-2.2.2-py3-none-any.whl (91 kB)\n",
            "\u001b[2K   \u001b[90m━━━━━━━━━━━━━━━━━━━━━━━━━━━━━━━━━━━━━━━━\u001b[0m \u001b[32m91.8/91.8 kB\u001b[0m \u001b[31m11.5 MB/s\u001b[0m eta \u001b[36m0:00:00\u001b[0m\n",
            "\u001b[?25hDownloading dynaconf-3.2.10-py2.py3-none-any.whl (236 kB)\n",
            "\u001b[2K   \u001b[90m━━━━━━━━━━━━━━━━━━━━━━━━━━━━━━━━━━━━━━━━\u001b[0m \u001b[32m236.2/236.2 kB\u001b[0m \u001b[31m27.6 MB/s\u001b[0m eta \u001b[36m0:00:00\u001b[0m\n",
            "\u001b[?25hDownloading flask_wtf-1.2.2-py3-none-any.whl (12 kB)\n",
            "Downloading graphene-3.4.3-py2.py3-none-any.whl (114 kB)\n",
            "\u001b[2K   \u001b[90m━━━━━━━━━━━━━━━━━━━━━━━━━━━━━━━━━━━━━━━━\u001b[0m \u001b[32m114.9/114.9 kB\u001b[0m \u001b[31m14.5 MB/s\u001b[0m eta \u001b[36m0:00:00\u001b[0m\n",
            "\u001b[?25hDownloading gunicorn-23.0.0-py3-none-any.whl (85 kB)\n",
            "\u001b[2K   \u001b[90m━━━━━━━━━━━━━━━━━━━━━━━━━━━━━━━━━━━━━━━━\u001b[0m \u001b[32m85.0/85.0 kB\u001b[0m \u001b[31m11.1 MB/s\u001b[0m eta \u001b[36m0:00:00\u001b[0m\n",
            "\u001b[?25hDownloading iterative_telemetry-0.0.10-py3-none-any.whl (10 kB)\n",
            "Downloading jedi-0.19.2-py2.py3-none-any.whl (1.6 MB)\n",
            "\u001b[2K   \u001b[90m━━━━━━━━━━━━━━━━━━━━━━━━━━━━━━━━━━━━━━━━\u001b[0m \u001b[32m1.6/1.6 MB\u001b[0m \u001b[31m83.2 MB/s\u001b[0m eta \u001b[36m0:00:00\u001b[0m\n",
            "\u001b[?25hDownloading jmespath-1.0.1-py3-none-any.whl (20 kB)\n",
            "Downloading jupyter_dash-0.4.2-py3-none-any.whl (23 kB)\n",
            "Downloading litestar-2.14.0-py3-none-any.whl (567 kB)\n",
            "\u001b[2K   \u001b[90m━━━━━━━━━━━━━━━━━━━━━━━━━━━━━━━━━━━━━━━━\u001b[0m \u001b[32m567.6/567.6 kB\u001b[0m \u001b[31m50.3 MB/s\u001b[0m eta \u001b[36m0:00:00\u001b[0m\n",
            "\u001b[?25hDownloading multimethod-1.12-py3-none-any.whl (10 kB)\n",
            "Downloading multiprocess-0.70.17-py311-none-any.whl (144 kB)\n",
            "\u001b[2K   \u001b[90m━━━━━━━━━━━━━━━━━━━━━━━━━━━━━━━━━━━━━━━━\u001b[0m \u001b[32m144.3/144.3 kB\u001b[0m \u001b[31m16.2 MB/s\u001b[0m eta \u001b[36m0:00:00\u001b[0m\n",
            "\u001b[?25hDownloading percy-2.0.2-py2.py3-none-any.whl (12 kB)\n",
            "Downloading phik-0.12.4-cp311-cp311-manylinux_2_17_x86_64.manylinux2014_x86_64.whl (687 kB)\n",
            "\u001b[2K   \u001b[90m━━━━━━━━━━━━━━━━━━━━━━━━━━━━━━━━━━━━━━━━\u001b[0m \u001b[32m687.8/687.8 kB\u001b[0m \u001b[31m56.1 MB/s\u001b[0m eta \u001b[36m0:00:00\u001b[0m\n",
            "\u001b[?25hDownloading pyaml-25.1.0-py3-none-any.whl (26 kB)\n",
            "Downloading pynndescent-0.5.13-py3-none-any.whl (56 kB)\n",
            "\u001b[2K   \u001b[90m━━━━━━━━━━━━━━━━━━━━━━━━━━━━━━━━━━━━━━━━\u001b[0m \u001b[32m56.9/56.9 kB\u001b[0m \u001b[31m6.9 MB/s\u001b[0m eta \u001b[36m0:00:00\u001b[0m\n",
            "\u001b[?25hDownloading python_multipart-0.0.20-py3-none-any.whl (24 kB)\n",
            "Downloading qpd-0.4.4-py3-none-any.whl (169 kB)\n",
            "\u001b[2K   \u001b[90m━━━━━━━━━━━━━━━━━━━━━━━━━━━━━━━━━━━━━━━━\u001b[0m \u001b[32m169.2/169.2 kB\u001b[0m \u001b[31m21.5 MB/s\u001b[0m eta \u001b[36m0:00:00\u001b[0m\n",
            "\u001b[?25hDownloading responses-0.25.6-py3-none-any.whl (34 kB)\n",
            "Downloading ruff-0.9.7-py3-none-manylinux_2_17_x86_64.manylinux2014_x86_64.whl (12.6 MB)\n",
            "\u001b[2K   \u001b[90m━━━━━━━━━━━━━━━━━━━━━━━━━━━━━━━━━━━━━━━━\u001b[0m \u001b[32m12.6/12.6 MB\u001b[0m \u001b[31m99.9 MB/s\u001b[0m eta \u001b[36m0:00:00\u001b[0m\n",
            "\u001b[?25hDownloading s3transfer-0.11.2-py3-none-any.whl (84 kB)\n",
            "\u001b[2K   \u001b[90m━━━━━━━━━━━━━━━━━━━━━━━━━━━━━━━━━━━━━━━━\u001b[0m \u001b[32m84.2/84.2 kB\u001b[0m \u001b[31m10.4 MB/s\u001b[0m eta \u001b[36m0:00:00\u001b[0m\n",
            "\u001b[?25hDownloading safehttpx-0.1.6-py3-none-any.whl (8.7 kB)\n",
            "Downloading scikit_base-0.7.8-py3-none-any.whl (130 kB)\n",
            "\u001b[2K   \u001b[90m━━━━━━━━━━━━━━━━━━━━━━━━━━━━━━━━━━━━━━━━\u001b[0m \u001b[32m130.1/130.1 kB\u001b[0m \u001b[31m15.1 MB/s\u001b[0m eta \u001b[36m0:00:00\u001b[0m\n",
            "\u001b[?25hDownloading selenium-4.2.0-py3-none-any.whl (983 kB)\n",
            "\u001b[2K   \u001b[90m━━━━━━━━━━━━━━━━━━━━━━━━━━━━━━━━━━━━━━━━\u001b[0m \u001b[32m983.2/983.2 kB\u001b[0m \u001b[31m71.7 MB/s\u001b[0m eta \u001b[36m0:00:00\u001b[0m\n",
            "\u001b[?25hDownloading semantic_version-2.10.0-py2.py3-none-any.whl (15 kB)\n",
            "Downloading sortedcontainers-2.4.0-py2.py3-none-any.whl (29 kB)\n",
            "Downloading starlette-0.45.3-py3-none-any.whl (71 kB)\n",
            "\u001b[2K   \u001b[90m━━━━━━━━━━━━━━━━━━━━━━━━━━━━━━━━━━━━━━━━\u001b[0m \u001b[32m71.5/71.5 kB\u001b[0m \u001b[31m9.0 MB/s\u001b[0m eta \u001b[36m0:00:00\u001b[0m\n",
            "\u001b[?25hDownloading tblib-3.0.0-py3-none-any.whl (12 kB)\n",
            "Downloading tomlkit-0.13.2-py3-none-any.whl (37 kB)\n",
            "Downloading triad-0.9.8-py3-none-any.whl (62 kB)\n",
            "\u001b[2K   \u001b[90m━━━━━━━━━━━━━━━━━━━━━━━━━━━━━━━━━━━━━━━━\u001b[0m \u001b[32m62.3/62.3 kB\u001b[0m \u001b[31m7.8 MB/s\u001b[0m eta \u001b[36m0:00:00\u001b[0m\n",
            "\u001b[?25hDownloading tsdownsample-0.1.4.1-cp311-cp311-manylinux_2_17_x86_64.manylinux2014_x86_64.whl (1.3 MB)\n",
            "\u001b[2K   \u001b[90m━━━━━━━━━━━━━━━━━━━━━━━━━━━━━━━━━━━━━━━━\u001b[0m \u001b[32m1.3/1.3 MB\u001b[0m \u001b[31m80.7 MB/s\u001b[0m eta \u001b[36m0:00:00\u001b[0m\n",
            "\u001b[?25hDownloading typing_inspect-0.9.0-py3-none-any.whl (8.8 kB)\n",
            "Downloading ujson-5.10.0-cp311-cp311-manylinux_2_17_x86_64.manylinux2014_x86_64.whl (53 kB)\n",
            "\u001b[2K   \u001b[90m━━━━━━━━━━━━━━━━━━━━━━━━━━━━━━━━━━━━━━━━\u001b[0m \u001b[32m53.6/53.6 kB\u001b[0m \u001b[31m6.3 MB/s\u001b[0m eta \u001b[36m0:00:00\u001b[0m\n",
            "\u001b[?25hDownloading urllib3-1.26.20-py2.py3-none-any.whl (144 kB)\n",
            "\u001b[2K   \u001b[90m━━━━━━━━━━━━━━━━━━━━━━━━━━━━━━━━━━━━━━━━\u001b[0m \u001b[32m144.2/144.2 kB\u001b[0m \u001b[31m17.4 MB/s\u001b[0m eta \u001b[36m0:00:00\u001b[0m\n",
            "\u001b[?25hDownloading uuid6-2024.7.10-py3-none-any.whl (6.4 kB)\n",
            "Downloading visions-0.7.6-py3-none-any.whl (104 kB)\n",
            "\u001b[2K   \u001b[90m━━━━━━━━━━━━━━━━━━━━━━━━━━━━━━━━━━━━━━━━\u001b[0m \u001b[32m104.8/104.8 kB\u001b[0m \u001b[31m13.0 MB/s\u001b[0m eta \u001b[36m0:00:00\u001b[0m\n",
            "\u001b[?25hDownloading waitress-3.0.2-py3-none-any.whl (56 kB)\n",
            "\u001b[2K   \u001b[90m━━━━━━━━━━━━━━━━━━━━━━━━━━━━━━━━━━━━━━━━\u001b[0m \u001b[32m56.2/56.2 kB\u001b[0m \u001b[31m6.5 MB/s\u001b[0m eta \u001b[36m0:00:00\u001b[0m\n",
            "\u001b[?25hDownloading watchdog-6.0.0-py3-none-manylinux2014_x86_64.whl (79 kB)\n",
            "\u001b[2K   \u001b[90m━━━━━━━━━━━━━━━━━━━━━━━━━━━━━━━━━━━━━━━━\u001b[0m \u001b[32m79.1/79.1 kB\u001b[0m \u001b[31m9.2 MB/s\u001b[0m eta \u001b[36m0:00:00\u001b[0m\n",
            "\u001b[?25hDownloading zict-3.0.0-py2.py3-none-any.whl (43 kB)\n",
            "\u001b[2K   \u001b[90m━━━━━━━━━━━━━━━━━━━━━━━━━━━━━━━━━━━━━━━━\u001b[0m \u001b[32m43.3/43.3 kB\u001b[0m \u001b[31m4.1 MB/s\u001b[0m eta \u001b[36m0:00:00\u001b[0m\n",
            "\u001b[?25hDownloading colorlog-6.9.0-py3-none-any.whl (11 kB)\n",
            "Downloading dash_auth-2.3.0-py3-none-any.whl (14 kB)\n",
            "Downloading ffmpy-0.5.0-py3-none-any.whl (6.0 kB)\n",
            "Downloading flask_simplelogin-0.2.0-py3-none-any.whl (7.3 kB)\n",
            "Downloading oyaml-1.0-py2.py3-none-any.whl (3.0 kB)\n",
            "Downloading pydub-0.25.1-py2.py3-none-any.whl (32 kB)\n",
            "Downloading retrying-1.3.4-py3-none-any.whl (11 kB)\n",
            "Downloading xmltodict-0.14.2-py2.py3-none-any.whl (10.0 kB)\n",
            "Downloading antlr4_python3_runtime-4.11.1-py3-none-any.whl (144 kB)\n",
            "\u001b[2K   \u001b[90m━━━━━━━━━━━━━━━━━━━━━━━━━━━━━━━━━━━━━━━━\u001b[0m \u001b[32m144.2/144.2 kB\u001b[0m \u001b[31m16.8 MB/s\u001b[0m eta \u001b[36m0:00:00\u001b[0m\n",
            "\u001b[?25hDownloading aplr-10.8.0-cp311-cp311-manylinux_2_17_x86_64.manylinux2014_x86_64.whl (6.7 MB)\n",
            "\u001b[2K   \u001b[90m━━━━━━━━━━━━━━━━━━━━━━━━━━━━━━━━━━━━━━━━\u001b[0m \u001b[32m6.7/6.7 MB\u001b[0m \u001b[31m79.9 MB/s\u001b[0m eta \u001b[36m0:00:00\u001b[0m\n",
            "\u001b[?25hDownloading databricks_sdk-0.44.1-py3-none-any.whl (648 kB)\n",
            "\u001b[2K   \u001b[90m━━━━━━━━━━━━━━━━━━━━━━━━━━━━━━━━━━━━━━━━\u001b[0m \u001b[32m648.7/648.7 kB\u001b[0m \u001b[31m50.1 MB/s\u001b[0m eta \u001b[36m0:00:00\u001b[0m\n",
            "\u001b[?25hDownloading dill-0.3.9-py3-none-any.whl (119 kB)\n",
            "\u001b[2K   \u001b[90m━━━━━━━━━━━━━━━━━━━━━━━━━━━━━━━━━━━━━━━━\u001b[0m \u001b[32m119.4/119.4 kB\u001b[0m \u001b[31m13.8 MB/s\u001b[0m eta \u001b[36m0:00:00\u001b[0m\n",
            "\u001b[?25hDownloading gevent-24.11.1-cp311-cp311-manylinux_2_17_x86_64.manylinux2014_x86_64.whl (6.8 MB)\n",
            "\u001b[2K   \u001b[90m━━━━━━━━━━━━━━━━━━━━━━━━━━━━━━━━━━━━━━━━\u001b[0m \u001b[32m6.8/6.8 MB\u001b[0m \u001b[31m97.5 MB/s\u001b[0m eta \u001b[36m0:00:00\u001b[0m\n",
            "\u001b[?25hDownloading graphql_core-3.2.6-py3-none-any.whl (203 kB)\n",
            "\u001b[2K   \u001b[90m━━━━━━━━━━━━━━━━━━━━━━━━━━━━━━━━━━━━━━━━\u001b[0m \u001b[32m203.4/203.4 kB\u001b[0m \u001b[31m17.9 MB/s\u001b[0m eta \u001b[36m0:00:00\u001b[0m\n",
            "\u001b[?25hDownloading graphql_relay-3.2.0-py3-none-any.whl (16 kB)\n",
            "Downloading httptools-0.6.4-cp311-cp311-manylinux_2_5_x86_64.manylinux1_x86_64.manylinux_2_17_x86_64.manylinux2014_x86_64.whl (459 kB)\n",
            "\u001b[2K   \u001b[90m━━━━━━━━━━━━━━━━━━━━━━━━━━━━━━━━━━━━━━━━\u001b[0m \u001b[32m459.8/459.8 kB\u001b[0m \u001b[31m36.6 MB/s\u001b[0m eta \u001b[36m0:00:00\u001b[0m\n",
            "\u001b[?25hDownloading litestar_htmx-0.4.1-py3-none-any.whl (10.0 kB)\n",
            "Downloading msgspec-0.19.0-cp311-cp311-manylinux_2_17_x86_64.manylinux2014_x86_64.whl (210 kB)\n",
            "\u001b[2K   \u001b[90m━━━━━━━━━━━━━━━━━━━━━━━━━━━━━━━━━━━━━━━━\u001b[0m \u001b[32m210.7/210.7 kB\u001b[0m \u001b[31m23.8 MB/s\u001b[0m eta \u001b[36m0:00:00\u001b[0m\n",
            "\u001b[?25hDownloading multipart-1.2.1-py3-none-any.whl (13 kB)\n",
            "Downloading mypy_extensions-1.0.0-py3-none-any.whl (4.7 kB)\n",
            "Downloading polyfactory-2.19.0-py3-none-any.whl (59 kB)\n",
            "\u001b[2K   \u001b[90m━━━━━━━━━━━━━━━━━━━━━━━━━━━━━━━━━━━━━━━━\u001b[0m \u001b[32m59.8/59.8 kB\u001b[0m \u001b[31m6.8 MB/s\u001b[0m eta \u001b[36m0:00:00\u001b[0m\n",
            "\u001b[?25hDownloading python_dotenv-1.0.1-py3-none-any.whl (19 kB)\n",
            "Downloading salib-1.5.1-py3-none-any.whl (778 kB)\n",
            "\u001b[2K   \u001b[90m━━━━━━━━━━━━━━━━━━━━━━━━━━━━━━━━━━━━━━━━\u001b[0m \u001b[32m778.9/778.9 kB\u001b[0m \u001b[31m55.5 MB/s\u001b[0m eta \u001b[36m0:00:00\u001b[0m\n",
            "\u001b[?25hDownloading trio-0.29.0-py3-none-any.whl (492 kB)\n",
            "\u001b[2K   \u001b[90m━━━━━━━━━━━━━━━━━━━━━━━━━━━━━━━━━━━━━━━━\u001b[0m \u001b[32m492.9/492.9 kB\u001b[0m \u001b[31m42.6 MB/s\u001b[0m eta \u001b[36m0:00:00\u001b[0m\n",
            "\u001b[?25hDownloading trio_websocket-0.12.1-py3-none-any.whl (21 kB)\n",
            "Downloading uvloop-0.21.0-cp311-cp311-manylinux_2_17_x86_64.manylinux2014_x86_64.whl (4.0 MB)\n",
            "\u001b[2K   \u001b[90m━━━━━━━━━━━━━━━━━━━━━━━━━━━━━━━━━━━━━━━━\u001b[0m \u001b[32m4.0/4.0 MB\u001b[0m \u001b[31m85.2 MB/s\u001b[0m eta \u001b[36m0:00:00\u001b[0m\n",
            "\u001b[?25hDownloading watchfiles-1.0.4-cp311-cp311-manylinux_2_17_x86_64.manylinux2014_x86_64.whl (452 kB)\n",
            "\u001b[2K   \u001b[90m━━━━━━━━━━━━━━━━━━━━━━━━━━━━━━━━━━━━━━━━\u001b[0m \u001b[32m452.6/452.6 kB\u001b[0m \u001b[31m39.1 MB/s\u001b[0m eta \u001b[36m0:00:00\u001b[0m\n",
            "\u001b[?25hDownloading wtforms-3.2.1-py3-none-any.whl (152 kB)\n",
            "\u001b[2K   \u001b[90m━━━━━━━━━━━━━━━━━━━━━━━━━━━━━━━━━━━━━━━━\u001b[0m \u001b[32m152.5/152.5 kB\u001b[0m \u001b[31m19.0 MB/s\u001b[0m eta \u001b[36m0:00:00\u001b[0m\n",
            "\u001b[?25hDownloading ansi2html-1.9.2-py3-none-any.whl (17 kB)\n",
            "Downloading appdirs-1.4.4-py2.py3-none-any.whl (9.6 kB)\n",
            "Downloading fs-2.4.16-py2.py3-none-any.whl (135 kB)\n",
            "\u001b[2K   \u001b[90m━━━━━━━━━━━━━━━━━━━━━━━━━━━━━━━━━━━━━━━━\u001b[0m \u001b[32m135.3/135.3 kB\u001b[0m \u001b[31m18.0 MB/s\u001b[0m eta \u001b[36m0:00:00\u001b[0m\n",
            "\u001b[?25hDownloading Mako-1.3.9-py3-none-any.whl (78 kB)\n",
            "\u001b[2K   \u001b[90m━━━━━━━━━━━━━━━━━━━━━━━━━━━━━━━━━━━━━━━━\u001b[0m \u001b[32m78.5/78.5 kB\u001b[0m \u001b[31m9.3 MB/s\u001b[0m eta \u001b[36m0:00:00\u001b[0m\n",
            "\u001b[?25hDownloading pywavelets-1.8.0-cp311-cp311-manylinux_2_17_x86_64.manylinux2014_x86_64.whl (4.5 MB)\n",
            "\u001b[2K   \u001b[90m━━━━━━━━━━━━━━━━━━━━━━━━━━━━━━━━━━━━━━━━\u001b[0m \u001b[32m4.5/4.5 MB\u001b[0m \u001b[31m10.2 MB/s\u001b[0m eta \u001b[36m0:00:00\u001b[0m\n",
            "\u001b[?25hDownloading rich_click-1.8.6-py3-none-any.whl (35 kB)\n",
            "Downloading outcome-1.3.0.post0-py2.py3-none-any.whl (10 kB)\n",
            "Downloading wsproto-1.2.0-py3-none-any.whl (24 kB)\n",
            "Downloading Faker-36.1.1-py3-none-any.whl (1.9 MB)\n",
            "\u001b[2K   \u001b[90m━━━━━━━━━━━━━━━━━━━━━━━━━━━━━━━━━━━━━━━━\u001b[0m \u001b[32m1.9/1.9 MB\u001b[0m \u001b[31m98.3 MB/s\u001b[0m eta \u001b[36m0:00:00\u001b[0m\n",
            "\u001b[?25hDownloading urllib3_secure_extra-0.1.0-py2.py3-none-any.whl (1.4 kB)\n",
            "Downloading zope.event-5.0-py3-none-any.whl (6.8 kB)\n",
            "Downloading zope.interface-7.2-cp311-cp311-manylinux_2_5_x86_64.manylinux1_x86_64.manylinux_2_17_x86_64.manylinux2014_x86_64.whl (259 kB)\n",
            "\u001b[2K   \u001b[90m━━━━━━━━━━━━━━━━━━━━━━━━━━━━━━━━━━━━━━━━\u001b[0m \u001b[32m259.8/259.8 kB\u001b[0m \u001b[31m28.8 MB/s\u001b[0m eta \u001b[36m0:00:00\u001b[0m\n",
            "\u001b[?25hBuilding wheels for collected packages: pyod, htmlmin, fugue-sql-antlr, dash-cytoscape\n",
            "  Building wheel for pyod (setup.py) ... \u001b[?25l\u001b[?25hdone\n",
            "  Created wheel for pyod: filename=pyod-2.0.3-py3-none-any.whl size=200466 sha256=7c8abac3929b598b0fb6b91c96fb79ac719f5125630735b8abd62250b20f5394\n",
            "  Stored in directory: /root/.cache/pip/wheels/2d/60/5b/f74eccd2c9c892a2c298202ca510f10995f9940647fcc2d97f\n",
            "  Building wheel for htmlmin (setup.py) ... \u001b[?25l\u001b[?25hdone\n",
            "  Created wheel for htmlmin: filename=htmlmin-0.1.12-py3-none-any.whl size=27081 sha256=e7d8cae4682f5c1e00ee070bb2c971c698b18162aee89fef70618cf2b77bb0e4\n",
            "  Stored in directory: /root/.cache/pip/wheels/8d/55/1a/19cd535375ed1ede0c996405ebffe34b196d78e2d9545723a2\n",
            "  Building wheel for fugue-sql-antlr (setup.py) ... \u001b[?25l\u001b[?25hdone\n",
            "  Created wheel for fugue-sql-antlr: filename=fugue_sql_antlr-0.2.2-py3-none-any.whl size=158200 sha256=ea5e9dfc6e5bd5af8ac3247edecbc857094ddd76c80cb3416b954b0eeb9dcf0c\n",
            "  Stored in directory: /root/.cache/pip/wheels/a0/18/b5/191b8df81519a2fb4b4a61aa0105a10d7121cd945bed15bb50\n",
            "  Building wheel for dash-cytoscape (setup.py) ... \u001b[?25l\u001b[?25hdone\n",
            "  Created wheel for dash-cytoscape: filename=dash_cytoscape-1.0.2-py3-none-any.whl size=4010716 sha256=44f41dd7b8a1ee6fc15e1403e1eba49471d712396b2b586e33788a92ab5898b0\n",
            "  Stored in directory: /root/.cache/pip/wheels/99/b1/ab/6c999ab288b4849d372e23c0a8f6ece7edb7ffeb8c97959ab0\n",
            "Successfully built pyod htmlmin fugue-sql-antlr dash-cytoscape\n",
            "Installing collected packages: urllib3-secure-extra, sortedcontainers, pydub, kaleido, htmlmin, dash-testing-stub, dash-table, dash-html-components, dash-core-components, appdirs, antlr4-python3-runtime, zope.interface, zope.event, zict, xxhash, xmltodict, wurlitzer, wsproto, watchdog, waitress, uvloop, uvicorn, uuid6, urllib3, ujson, tsdownsample, tomlkit, tblib, slicer, semantic-version, scipy, scikit-base, schemdraw, ruff, retrying, PyWavelets, python-multipart, python-dotenv, pytest, pyaml, oyaml, outcome, mypy-extensions, multipart, multimethod, msgspec, markupsafe, m2cgen, litestar-htmx, joblib, jmespath, jedi, httptools, gunicorn, graphql-core, fs, ffmpy, faker, dynaconf, dill, deprecation, dacite, colorlog, aplr, ansi2html, aiofiles, wtforms, Werkzeug, watchfiles, typing-inspect, trio, starlette, scikit-learn, polyfactory, pandas, multiprocess, matplotlib, Mako, imagehash, graphql-relay, gevent, dask, daal, botocore, visions, trio-websocket, triad, sktime, shap, scikit-plot, scikit-optimize, scikit-learn-intelex, SALib, safehttpx, s3transfer, rich-click, responses, pyod, pynndescent, phik, percy, kmodes, iterative-telemetry, interpret-core, graphene, flask, fastapi, fairlearn, dtreeviz, docker, distributed, databricks-sdk, catboost, alembic, umap-learn, pmdarima, optuna, mlflow-skinny, litestar, gradio-client, fugue-sql-antlr, Flask-WTF, dash, category-encoders, boto3, adagio, ydata-profiling, tbats, selenium, qpd, plotly-resampler, optuna-integration, moto, mlflow, jupyter_dash, gradio, flask_simplelogin, evidently, dash-cytoscape, dash-bootstrap-components, dash-auth, fugue, explainerdashboard, statsforecast, interpret, pycaret\n",
            "  Attempting uninstall: urllib3\n",
            "    Found existing installation: urllib3 2.3.0\n",
            "    Uninstalling urllib3-2.3.0:\n",
            "      Successfully uninstalled urllib3-2.3.0\n",
            "  Attempting uninstall: slicer\n",
            "    Found existing installation: slicer 0.0.8\n",
            "    Uninstalling slicer-0.0.8:\n",
            "      Successfully uninstalled slicer-0.0.8\n",
            "  Attempting uninstall: scipy\n",
            "    Found existing installation: scipy 1.13.1\n",
            "    Uninstalling scipy-1.13.1:\n",
            "      Successfully uninstalled scipy-1.13.1\n",
            "  Attempting uninstall: pytest\n",
            "    Found existing installation: pytest 8.3.4\n",
            "    Uninstalling pytest-8.3.4:\n",
            "      Successfully uninstalled pytest-8.3.4\n",
            "  Attempting uninstall: markupsafe\n",
            "    Found existing installation: MarkupSafe 3.0.2\n",
            "    Uninstalling MarkupSafe-3.0.2:\n",
            "      Successfully uninstalled MarkupSafe-3.0.2\n",
            "  Attempting uninstall: joblib\n",
            "    Found existing installation: joblib 1.4.2\n",
            "    Uninstalling joblib-1.4.2:\n",
            "      Successfully uninstalled joblib-1.4.2\n",
            "  Attempting uninstall: Werkzeug\n",
            "    Found existing installation: Werkzeug 3.1.3\n",
            "    Uninstalling Werkzeug-3.1.3:\n",
            "      Successfully uninstalled Werkzeug-3.1.3\n",
            "  Attempting uninstall: scikit-learn\n",
            "    Found existing installation: scikit-learn 1.6.1\n",
            "    Uninstalling scikit-learn-1.6.1:\n",
            "      Successfully uninstalled scikit-learn-1.6.1\n",
            "  Attempting uninstall: pandas\n",
            "    Found existing installation: pandas 2.2.2\n",
            "    Uninstalling pandas-2.2.2:\n",
            "      Successfully uninstalled pandas-2.2.2\n",
            "  Attempting uninstall: matplotlib\n",
            "    Found existing installation: matplotlib 3.10.0\n",
            "    Uninstalling matplotlib-3.10.0:\n",
            "      Successfully uninstalled matplotlib-3.10.0\n",
            "  Attempting uninstall: dask\n",
            "    Found existing installation: dask 2024.10.0\n",
            "    Uninstalling dask-2024.10.0:\n",
            "      Successfully uninstalled dask-2024.10.0\n",
            "  Attempting uninstall: shap\n",
            "    Found existing installation: shap 0.46.0\n",
            "    Uninstalling shap-0.46.0:\n",
            "      Successfully uninstalled shap-0.46.0\n",
            "  Attempting uninstall: flask\n",
            "    Found existing installation: Flask 3.1.0\n",
            "    Uninstalling Flask-3.1.0:\n",
            "      Successfully uninstalled Flask-3.1.0\n",
            "\u001b[31mERROR: pip's dependency resolver does not currently take into account all the packages that are installed. This behaviour is the source of the following dependency conflicts.\n",
            "google-colab 1.0.0 requires pandas==2.2.2, but you have pandas 2.1.4 which is incompatible.\n",
            "mizani 0.13.1 requires pandas>=2.2.0, but you have pandas 2.1.4 which is incompatible.\n",
            "plotnine 0.14.5 requires matplotlib>=3.8.0, but you have matplotlib 3.7.5 which is incompatible.\n",
            "plotnine 0.14.5 requires pandas>=2.2.0, but you have pandas 2.1.4 which is incompatible.\n",
            "torch 2.5.1+cu124 requires nvidia-cublas-cu12==12.4.5.8; platform_system == \"Linux\" and platform_machine == \"x86_64\", but you have nvidia-cublas-cu12 12.5.3.2 which is incompatible.\n",
            "torch 2.5.1+cu124 requires nvidia-cuda-cupti-cu12==12.4.127; platform_system == \"Linux\" and platform_machine == \"x86_64\", but you have nvidia-cuda-cupti-cu12 12.5.82 which is incompatible.\n",
            "torch 2.5.1+cu124 requires nvidia-cuda-nvrtc-cu12==12.4.127; platform_system == \"Linux\" and platform_machine == \"x86_64\", but you have nvidia-cuda-nvrtc-cu12 12.5.82 which is incompatible.\n",
            "torch 2.5.1+cu124 requires nvidia-cuda-runtime-cu12==12.4.127; platform_system == \"Linux\" and platform_machine == \"x86_64\", but you have nvidia-cuda-runtime-cu12 12.5.82 which is incompatible.\n",
            "torch 2.5.1+cu124 requires nvidia-cudnn-cu12==9.1.0.70; platform_system == \"Linux\" and platform_machine == \"x86_64\", but you have nvidia-cudnn-cu12 9.3.0.75 which is incompatible.\n",
            "torch 2.5.1+cu124 requires nvidia-cufft-cu12==11.2.1.3; platform_system == \"Linux\" and platform_machine == \"x86_64\", but you have nvidia-cufft-cu12 11.2.3.61 which is incompatible.\n",
            "torch 2.5.1+cu124 requires nvidia-curand-cu12==10.3.5.147; platform_system == \"Linux\" and platform_machine == \"x86_64\", but you have nvidia-curand-cu12 10.3.6.82 which is incompatible.\n",
            "torch 2.5.1+cu124 requires nvidia-cusolver-cu12==11.6.1.9; platform_system == \"Linux\" and platform_machine == \"x86_64\", but you have nvidia-cusolver-cu12 11.6.3.83 which is incompatible.\n",
            "torch 2.5.1+cu124 requires nvidia-cusparse-cu12==12.3.1.170; platform_system == \"Linux\" and platform_machine == \"x86_64\", but you have nvidia-cusparse-cu12 12.5.1.3 which is incompatible.\n",
            "torch 2.5.1+cu124 requires nvidia-nvjitlink-cu12==12.4.127; platform_system == \"Linux\" and platform_machine == \"x86_64\", but you have nvidia-nvjitlink-cu12 12.5.82 which is incompatible.\u001b[0m\u001b[31m\n",
            "\u001b[0mSuccessfully installed Flask-WTF-1.2.2 Mako-1.3.9 PyWavelets-1.8.0 SALib-1.5.1 Werkzeug-2.3.8 adagio-0.2.6 aiofiles-23.2.1 alembic-1.14.1 ansi2html-1.9.2 antlr4-python3-runtime-4.11.1 aplr-10.8.0 appdirs-1.4.4 boto3-1.36.25 botocore-1.36.25 catboost-1.2.7 category-encoders-2.7.0 colorlog-6.9.0 daal-2025.2.0 dacite-1.9.2 dash-2.18.2 dash-auth-2.3.0 dash-bootstrap-components-1.7.1 dash-core-components-2.0.0 dash-cytoscape-1.0.2 dash-html-components-2.0.0 dash-table-5.0.0 dash-testing-stub-0.0.2 dask-2025.2.0 databricks-sdk-0.44.1 deprecation-2.1.0 dill-0.3.9 distributed-2025.2.0 docker-7.1.0 dtreeviz-2.2.2 dynaconf-3.2.10 evidently-0.4.40 explainerdashboard-0.4.8 fairlearn-0.7.0 faker-36.1.1 fastapi-0.115.8 ffmpy-0.5.0 flask-2.3.3 flask_simplelogin-0.2.0 fs-2.4.16 fugue-0.8.7 fugue-sql-antlr-0.2.2 gevent-24.11.1 gradio-5.17.0 gradio-client-1.7.1 graphene-3.4.3 graphql-core-3.2.6 graphql-relay-3.2.0 gunicorn-23.0.0 htmlmin-0.1.12 httptools-0.6.4 imagehash-4.3.1 interpret-0.6.9 interpret-core-0.6.9 iterative-telemetry-0.0.10 jedi-0.19.2 jmespath-1.0.1 joblib-1.3.2 jupyter_dash-0.4.2 kaleido-0.2.1 kmodes-0.12.2 litestar-2.14.0 litestar-htmx-0.4.1 m2cgen-0.10.0 markupsafe-2.1.5 matplotlib-3.7.5 mlflow-2.20.2 mlflow-skinny-2.20.2 moto-4.2.14 msgspec-0.19.0 multimethod-1.12 multipart-1.2.1 multiprocess-0.70.17 mypy-extensions-1.0.0 optuna-4.2.1 optuna-integration-4.2.1 outcome-1.3.0.post0 oyaml-1.0 pandas-2.1.4 percy-2.0.2 phik-0.12.4 plotly-resampler-0.10.0 pmdarima-2.0.4 polyfactory-2.19.0 pyaml-25.1.0 pycaret-3.3.2 pydub-0.25.1 pynndescent-0.5.13 pyod-2.0.3 pytest-7.4.4 python-dotenv-1.0.1 python-multipart-0.0.20 qpd-0.4.4 responses-0.25.6 retrying-1.3.4 rich-click-1.8.6 ruff-0.9.7 s3transfer-0.11.2 safehttpx-0.1.6 schemdraw-0.15 scikit-base-0.7.8 scikit-learn-1.4.2 scikit-learn-intelex-2025.2.0 scikit-optimize-0.10.2 scikit-plot-0.3.7 scipy-1.11.4 selenium-4.2.0 semantic-version-2.10.0 shap-0.44.1 sktime-0.26.0 slicer-0.0.7 sortedcontainers-2.4.0 starlette-0.45.3 statsforecast-1.5.0 tbats-1.1.3 tblib-3.0.0 tomlkit-0.13.2 triad-0.9.8 trio-0.29.0 trio-websocket-0.12.1 tsdownsample-0.1.4.1 typing-inspect-0.9.0 ujson-5.10.0 umap-learn-0.5.7 urllib3-1.26.20 urllib3-secure-extra-0.1.0 uuid6-2024.7.10 uvicorn-0.34.0 uvloop-0.21.0 visions-0.7.6 waitress-3.0.2 watchdog-6.0.0 watchfiles-1.0.4 wsproto-1.2.0 wtforms-3.2.1 wurlitzer-3.1.1 xmltodict-0.14.2 xxhash-3.5.0 ydata-profiling-4.12.2 zict-3.0.0 zope.event-5.0 zope.interface-7.2\n"
          ]
        }
      ]
    },
    {
      "cell_type": "code",
      "execution_count": 1,
      "id": "d7142a33",
      "metadata": {
        "id": "d7142a33",
        "outputId": "7dbfdd92-0e27-4891-e183-4d359e16b428",
        "colab": {
          "base_uri": "https://localhost:8080/",
          "height": 366
        }
      },
      "outputs": [
        {
          "output_type": "error",
          "ename": "ModuleNotFoundError",
          "evalue": "No module named 'pycaret'",
          "traceback": [
            "\u001b[0;31m---------------------------------------------------------------------------\u001b[0m",
            "\u001b[0;31mModuleNotFoundError\u001b[0m                       Traceback (most recent call last)",
            "\u001b[0;32m<ipython-input-1-c5b1f60639e1>\u001b[0m in \u001b[0;36m<cell line: 0>\u001b[0;34m()\u001b[0m\n\u001b[1;32m      1\u001b[0m \u001b[0;31m# check installed version\u001b[0m\u001b[0;34m\u001b[0m\u001b[0;34m\u001b[0m\u001b[0m\n\u001b[0;32m----> 2\u001b[0;31m \u001b[0;32mimport\u001b[0m \u001b[0mpycaret\u001b[0m\u001b[0;34m\u001b[0m\u001b[0;34m\u001b[0m\u001b[0m\n\u001b[0m\u001b[1;32m      3\u001b[0m \u001b[0mpycaret\u001b[0m\u001b[0;34m.\u001b[0m\u001b[0m__version__\u001b[0m\u001b[0;34m\u001b[0m\u001b[0;34m\u001b[0m\u001b[0m\n",
            "\u001b[0;31mModuleNotFoundError\u001b[0m: No module named 'pycaret'",
            "",
            "\u001b[0;31m---------------------------------------------------------------------------\u001b[0;32m\nNOTE: If your import is failing due to a missing package, you can\nmanually install dependencies using either !pip or !apt.\n\nTo view examples of installing some common dependencies, click the\n\"Open Examples\" button below.\n\u001b[0;31m---------------------------------------------------------------------------\u001b[0m\n"
          ],
          "errorDetails": {
            "actions": [
              {
                "action": "open_url",
                "actionText": "Open Examples",
                "url": "/notebooks/snippets/importing_libraries.ipynb"
              }
            ]
          }
        }
      ],
      "source": [
        "# check installed version\n",
        "import pycaret\n",
        "pycaret.__version__"
      ]
    },
    {
      "cell_type": "markdown",
      "id": "fb66e98d",
      "metadata": {
        "id": "fb66e98d"
      },
      "source": [
        "# 🚀 Quick start"
      ]
    },
    {
      "cell_type": "markdown",
      "id": "00347d44",
      "metadata": {
        "id": "00347d44"
      },
      "source": [
        "PyCaret’s Classification Module is a supervised machine learning module that is used for classifying elements into groups. The goal is to predict the categorical class labels which are discrete and unordered.\n",
        "\n",
        "Some common use cases include predicting customer default (Yes or No), predicting customer churn (customer will leave or stay), the disease found (positive or negative).\n",
        "\n",
        "This module can be used for binary or multiclass problems. It provides several pre-processing features that prepare the data for modeling through the setup function. It has over 18 ready-to-use algorithms and several plots to analyze the performance of trained models.\n",
        "\n",
        "A typical workflow in PyCaret consist of following 5 steps in this order:\n",
        "\n",
        "## **Setup** ➡️ **Compare Models** ➡️ **Analyze Model** ➡️ **Prediction** ➡️ **Save Model**"
      ]
    },
    {
      "cell_type": "code",
      "execution_count": null,
      "id": "956dfdab",
      "metadata": {
        "id": "956dfdab"
      },
      "outputs": [],
      "source": [
        "# loading sample dataset from pycaret dataset module\n",
        "from pycaret.datasets import get_data\n",
        "data = get_data('iris')"
      ]
    },
    {
      "cell_type": "markdown",
      "id": "c00f6a4a",
      "metadata": {
        "id": "c00f6a4a"
      },
      "source": [
        "## Setup\n",
        "This function initializes the training environment and creates the transformation pipeline. Setup function must be called before executing any other function in PyCaret. It only has two required parameters i.e. `data` and `target`. All the other parameters are optional."
      ]
    },
    {
      "cell_type": "code",
      "execution_count": null,
      "id": "97f2c6c6",
      "metadata": {
        "id": "97f2c6c6"
      },
      "outputs": [],
      "source": [
        "# import pycaret classification and init setup\n",
        "from pycaret.classification import *\n",
        "s = setup(data, target = 'species', session_id = 123)"
      ]
    },
    {
      "cell_type": "markdown",
      "id": "3c583864",
      "metadata": {
        "id": "3c583864"
      },
      "source": [
        "Once the setup has been successfully executed it shows the information grid containing experiment level information.\n",
        "\n",
        "- **Session id:**  A pseudo-random number distributed as a seed in all functions for later reproducibility. If no `session_id` is passed, a random number is automatically generated that is distributed to all functions.<br/>\n",
        "<br/>\n",
        "- **Target type:**  Binary, Multiclass, or Regression. The Target type is automatically detected. <br/>\n",
        "<br/>\n",
        "- **Label Encoding:**  When the Target variable is of type string (i.e. 'Yes' or 'No') instead of 1 or 0, it automatically encodes the label into 1 and 0 and displays the mapping (0 : No, 1 : Yes) for reference. In this tutorial, no label encoding is required since the target variable is of numeric type. <br/>\n",
        "<br/>\n",
        "- **Original data shape:**  Shape of the original data prior to any transformations. <br/>\n",
        "<br/>\n",
        "- **Transformed train set shape :**  Shape of transformed train set <br/>\n",
        "<br/>\n",
        "- **Transformed test set shape :**  Shape of transformed test set <br/>\n",
        "<br/>\n",
        "- **Numeric features :**  The number of features considered as numerical. <br/>\n",
        "<br/>\n",
        "- **Categorical features :**  The number of features considered as categorical. <br/>"
      ]
    },
    {
      "cell_type": "markdown",
      "id": "ada19398",
      "metadata": {
        "id": "ada19398"
      },
      "source": [
        "PyCaret has two set of API's that you can work with. (1) Functional (as seen above) and (2) Object Oriented API.\n",
        "\n",
        "With Object Oriented API instead of executing functions directly you will import a class and execute methods of class."
      ]
    },
    {
      "cell_type": "code",
      "execution_count": null,
      "id": "32ee91c9",
      "metadata": {
        "id": "32ee91c9"
      },
      "outputs": [],
      "source": [
        "# import ClassificationExperiment and init the class\n",
        "from pycaret.classification import ClassificationExperiment\n",
        "exp = ClassificationExperiment()"
      ]
    },
    {
      "cell_type": "code",
      "execution_count": null,
      "id": "3ead9fb5",
      "metadata": {
        "id": "3ead9fb5"
      },
      "outputs": [],
      "source": [
        "# check the type of exp\n",
        "type(exp)"
      ]
    },
    {
      "cell_type": "code",
      "execution_count": null,
      "id": "f05b8590",
      "metadata": {
        "id": "f05b8590"
      },
      "outputs": [],
      "source": [
        "# init setup on exp\n",
        "exp.setup(data, target = 'species', session_id = 123)"
      ]
    },
    {
      "cell_type": "markdown",
      "id": "77213120",
      "metadata": {
        "id": "77213120"
      },
      "source": [
        "You can use any of the two method i.e. Functional or OOP and even switch back and forth between two set of API's. The choice of method will not impact the results and has been tested for consistency."
      ]
    },
    {
      "cell_type": "markdown",
      "id": "f98dd435",
      "metadata": {
        "id": "f98dd435"
      },
      "source": [
        "## Compare Models\n",
        "\n",
        "This function trains and evaluates the performance of all the estimators available in the model library using cross-validation. The output of this function is a scoring grid with average cross-validated scores. Metrics evaluated during CV can be accessed using the `get_metrics` function. Custom metrics can be added or removed using `add_metric` and `remove_metric` function."
      ]
    },
    {
      "cell_type": "code",
      "execution_count": null,
      "id": "65a19df4",
      "metadata": {
        "id": "65a19df4"
      },
      "outputs": [],
      "source": [
        "# compare baseline models\n",
        "best = compare_models()"
      ]
    },
    {
      "cell_type": "code",
      "execution_count": null,
      "id": "87477aa4",
      "metadata": {
        "id": "87477aa4"
      },
      "outputs": [],
      "source": [
        "# compare models using OOP\n",
        "exp.compare_models()"
      ]
    },
    {
      "cell_type": "markdown",
      "id": "340de1e2",
      "metadata": {
        "id": "340de1e2"
      },
      "source": [
        "Notice that the output between functional and OOP API is consistent. Rest of the functions in this notebook will only be shown using functional API only."
      ]
    },
    {
      "cell_type": "markdown",
      "id": "6a77ec0c",
      "metadata": {
        "id": "6a77ec0c"
      },
      "source": [
        "## Analyze Model"
      ]
    },
    {
      "cell_type": "markdown",
      "id": "595ea108",
      "metadata": {
        "id": "595ea108"
      },
      "source": [
        "You can use the `plot_model` function to analyzes the performance of a trained model on the test set. It may require re-training the model in certain cases."
      ]
    },
    {
      "cell_type": "code",
      "execution_count": null,
      "id": "0ec7fad6",
      "metadata": {
        "id": "0ec7fad6"
      },
      "outputs": [],
      "source": [
        "# plot confusion matrix\n",
        "plot_model(best, plot = 'confusion_matrix')"
      ]
    },
    {
      "cell_type": "code",
      "execution_count": null,
      "id": "9fc4b9b1",
      "metadata": {
        "id": "9fc4b9b1"
      },
      "outputs": [],
      "source": [
        "# plot AUC\n",
        "plot_model(best, plot = 'auc')"
      ]
    },
    {
      "cell_type": "code",
      "execution_count": null,
      "id": "bbc790e4",
      "metadata": {
        "id": "bbc790e4"
      },
      "outputs": [],
      "source": [
        "# plot feature importance\n",
        "plot_model(best, plot = 'feature')"
      ]
    },
    {
      "cell_type": "code",
      "execution_count": null,
      "id": "da718984",
      "metadata": {
        "id": "da718984"
      },
      "outputs": [],
      "source": [
        "# check docstring to see available plots\n",
        "help(plot_model)"
      ]
    },
    {
      "cell_type": "markdown",
      "id": "6bd66179",
      "metadata": {
        "id": "6bd66179"
      },
      "source": [
        "An alternate to `plot_model` function is `evaluate_model`. It can only be used in Notebook since it uses ipywidget."
      ]
    },
    {
      "cell_type": "code",
      "execution_count": null,
      "id": "c75f07a8",
      "metadata": {
        "id": "c75f07a8"
      },
      "outputs": [],
      "source": [
        "evaluate_model(best)"
      ]
    },
    {
      "cell_type": "markdown",
      "id": "954cbeff",
      "metadata": {
        "id": "954cbeff"
      },
      "source": [
        "## Prediction\n",
        "The `predict_model` function returns `prediction_label` and `prediction_score` (probability of the predicted class) as new columns in dataframe. When data is `None` (default), it uses the test set (created during the setup function) for scoring."
      ]
    },
    {
      "cell_type": "code",
      "execution_count": null,
      "id": "87c1a007",
      "metadata": {
        "id": "87c1a007"
      },
      "outputs": [],
      "source": [
        "# predict on test set\n",
        "holdout_pred = predict_model(best)"
      ]
    },
    {
      "cell_type": "code",
      "execution_count": null,
      "id": "5c01ac77",
      "metadata": {
        "id": "5c01ac77"
      },
      "outputs": [],
      "source": [
        "# show predictions df\n",
        "holdout_pred.head()"
      ]
    },
    {
      "cell_type": "markdown",
      "id": "d4baf825",
      "metadata": {
        "id": "d4baf825"
      },
      "source": [
        "The same function works for predicting the labels on unseen dataset. Let's create a copy of original data and drop the `Class variable`. We can then use the new data frame without labels for scoring."
      ]
    },
    {
      "cell_type": "code",
      "execution_count": null,
      "id": "fb1cb86d",
      "metadata": {
        "id": "fb1cb86d"
      },
      "outputs": [],
      "source": [
        "# copy data and drop Class variable\n",
        "\n",
        "new_data = data.copy()\n",
        "new_data.drop('species', axis=1, inplace=True)\n",
        "new_data.head()"
      ]
    },
    {
      "cell_type": "code",
      "execution_count": null,
      "id": "c5803df9",
      "metadata": {
        "id": "c5803df9"
      },
      "outputs": [],
      "source": [
        "# predict model on new_data\n",
        "predictions = predict_model(best, data = new_data)\n",
        "predictions.head()"
      ]
    },
    {
      "cell_type": "markdown",
      "id": "e4384735",
      "metadata": {
        "id": "e4384735"
      },
      "source": [
        "## Save Model"
      ]
    },
    {
      "cell_type": "markdown",
      "id": "cd63f053",
      "metadata": {
        "id": "cd63f053"
      },
      "source": [
        "Finally, you can save the entire pipeline on disk for later use, using pycaret's `save_model` function."
      ]
    },
    {
      "cell_type": "code",
      "execution_count": null,
      "id": "4181de41",
      "metadata": {
        "id": "4181de41"
      },
      "outputs": [],
      "source": [
        "# save pipeline\n",
        "save_model(best, 'my_first_pipeline')"
      ]
    },
    {
      "cell_type": "code",
      "execution_count": null,
      "id": "40ed5152",
      "metadata": {
        "id": "40ed5152"
      },
      "outputs": [],
      "source": [
        "# load pipeline\n",
        "loaded_best_pipeline = load_model('my_first_pipeline')\n",
        "loaded_best_pipeline"
      ]
    },
    {
      "cell_type": "markdown",
      "id": "b2c7d62e",
      "metadata": {
        "id": "b2c7d62e"
      },
      "source": [
        "# 👇 Detailed function-by-function overview"
      ]
    },
    {
      "cell_type": "markdown",
      "id": "e05937f5",
      "metadata": {
        "id": "e05937f5"
      },
      "source": [
        "## ✅ Setup\n",
        "This function initializes the experiment in PyCaret and creates the transformation pipeline based on all the parameters passed in the function. Setup function must be called before executing any other function. It takes two required parameters: `data` and `target`. All the other parameters are optional and are used for configuring data preprocessing pipeline."
      ]
    },
    {
      "cell_type": "code",
      "execution_count": null,
      "id": "24e503be",
      "metadata": {
        "id": "24e503be"
      },
      "outputs": [],
      "source": [
        "s = setup(data, target = 'species', session_id = 123)"
      ]
    },
    {
      "cell_type": "markdown",
      "id": "924d198b",
      "metadata": {
        "id": "924d198b"
      },
      "source": [
        "To access all the variables created by the setup function such as transformed dataset, random_state, etc. you can use `get_config` method."
      ]
    },
    {
      "cell_type": "code",
      "execution_count": 2,
      "id": "76128b08",
      "metadata": {
        "id": "76128b08",
        "outputId": "45db8c42-9f46-461f-c725-83000c966ba5",
        "colab": {
          "base_uri": "https://localhost:8080/",
          "height": 165
        }
      },
      "outputs": [
        {
          "output_type": "error",
          "ename": "NameError",
          "evalue": "name 'get_config' is not defined",
          "traceback": [
            "\u001b[0;31m---------------------------------------------------------------------------\u001b[0m",
            "\u001b[0;31mNameError\u001b[0m                                 Traceback (most recent call last)",
            "\u001b[0;32m<ipython-input-2-51943eb643da>\u001b[0m in \u001b[0;36m<cell line: 0>\u001b[0;34m()\u001b[0m\n\u001b[1;32m      1\u001b[0m \u001b[0;31m# check all available config\u001b[0m\u001b[0;34m\u001b[0m\u001b[0;34m\u001b[0m\u001b[0m\n\u001b[0;32m----> 2\u001b[0;31m \u001b[0mget_config\u001b[0m\u001b[0;34m(\u001b[0m\u001b[0;34m)\u001b[0m\u001b[0;34m\u001b[0m\u001b[0;34m\u001b[0m\u001b[0m\n\u001b[0m",
            "\u001b[0;31mNameError\u001b[0m: name 'get_config' is not defined"
          ]
        }
      ],
      "source": [
        "# check all available config\n",
        "get_config()"
      ]
    },
    {
      "cell_type": "code",
      "execution_count": null,
      "id": "dbc43292",
      "metadata": {
        "id": "dbc43292"
      },
      "outputs": [],
      "source": [
        "# lets access X_train_transformed\n",
        "get_config('X_train_transformed')"
      ]
    },
    {
      "cell_type": "code",
      "execution_count": null,
      "id": "ef9cd061",
      "metadata": {
        "id": "ef9cd061"
      },
      "outputs": [],
      "source": [
        "# another example: let's access seed\n",
        "print(\"The current seed is: {}\".format(get_config('seed')))\n",
        "\n",
        "# now lets change it using set_config\n",
        "set_config('seed', 786)\n",
        "print(\"The new seed is: {}\".format(get_config('seed')))"
      ]
    },
    {
      "cell_type": "markdown",
      "id": "7afbe41d",
      "metadata": {
        "id": "7afbe41d"
      },
      "source": [
        "All the preprocessing configurations and experiment settings/parameters are passed into the `setup` function. To see all available parameters, check the docstring:"
      ]
    },
    {
      "cell_type": "code",
      "execution_count": null,
      "id": "2885a14f",
      "metadata": {
        "id": "2885a14f"
      },
      "outputs": [],
      "source": [
        "# help(setup)"
      ]
    },
    {
      "cell_type": "code",
      "execution_count": null,
      "id": "34ae0fce",
      "metadata": {
        "id": "34ae0fce"
      },
      "outputs": [],
      "source": [
        "# init setup with normalize = True\n",
        "\n",
        "s = setup(data, target = 'species', session_id = 123,\n",
        "          normalize = True, normalize_method = 'minmax')"
      ]
    },
    {
      "cell_type": "code",
      "execution_count": null,
      "id": "04204ae7",
      "metadata": {
        "id": "04204ae7"
      },
      "outputs": [],
      "source": [
        "# lets check the X_train_transformed to see effect of params passed\n",
        "get_config('X_train_transformed')['sepal_length'].hist()"
      ]
    },
    {
      "cell_type": "markdown",
      "id": "d28a3e4e",
      "metadata": {
        "id": "d28a3e4e"
      },
      "source": [
        "Notice that all the values are between 0 and 1 - that is because we passed `normalize=True` in the `setup` function. If you don't remember how it compares to actual data, no problem - we can also access non-transformed values using `get_config` and then compare. See below and notice the range of values on x-axis and compare it with histogram above."
      ]
    },
    {
      "cell_type": "code",
      "execution_count": null,
      "id": "68cc1c63",
      "metadata": {
        "id": "68cc1c63"
      },
      "outputs": [],
      "source": [
        "get_config('X_train')['sepal_length'].hist()"
      ]
    },
    {
      "cell_type": "markdown",
      "id": "36b8b803",
      "metadata": {
        "id": "36b8b803"
      },
      "source": [
        "## ✅ Compare Models\n",
        "This function trains and evaluates the performance of all estimators available in the model library using cross-validation. The output of this function is a scoring grid with average cross-validated scores. Metrics evaluated during CV can be accessed using the `get_metrics` function. Custom metrics can be added or removed using `add_metric` and `remove_metric` function."
      ]
    },
    {
      "cell_type": "code",
      "execution_count": null,
      "id": "a3350418",
      "metadata": {
        "id": "a3350418"
      },
      "outputs": [],
      "source": [
        "best = compare_models()"
      ]
    },
    {
      "cell_type": "markdown",
      "id": "cd18dcf6",
      "metadata": {
        "id": "cd18dcf6"
      },
      "source": [
        "`compare_models` by default uses all the estimators in model library (all except models with `Turbo=False`) . To see all available models you can use the function `models()`"
      ]
    },
    {
      "cell_type": "code",
      "execution_count": null,
      "id": "432e93d7",
      "metadata": {
        "id": "432e93d7"
      },
      "outputs": [],
      "source": [
        "# check available models\n",
        "models()"
      ]
    },
    {
      "cell_type": "markdown",
      "id": "f588f54b",
      "metadata": {
        "id": "f588f54b"
      },
      "source": [
        "You can use the `include` and `exclude` parameter in the `compare_models` to train only select model or exclude specific models from training by passing the model id's in `exclude` parameter."
      ]
    },
    {
      "cell_type": "code",
      "execution_count": null,
      "id": "f2a7e578",
      "metadata": {
        "id": "f2a7e578"
      },
      "outputs": [],
      "source": [
        "compare_tree_models = compare_models(include = ['dt', 'rf', 'et', 'gbc', 'xgboost', 'lightgbm', 'catboost'])"
      ]
    },
    {
      "cell_type": "code",
      "execution_count": null,
      "id": "c15a467e",
      "metadata": {
        "id": "c15a467e"
      },
      "outputs": [],
      "source": [
        "compare_tree_models"
      ]
    },
    {
      "cell_type": "markdown",
      "id": "af9ae6cd",
      "metadata": {
        "id": "af9ae6cd"
      },
      "source": [
        "The function above has return trained model object as an output. The scoring grid is only displayed and not returned. If you need access to the scoring grid you can use `pull` function to access the dataframe."
      ]
    },
    {
      "cell_type": "code",
      "execution_count": 3,
      "id": "fc529e25",
      "metadata": {
        "id": "fc529e25",
        "outputId": "6a0a29f2-f668-42b9-d710-caacb04de1be",
        "colab": {
          "base_uri": "https://localhost:8080/",
          "height": 165
        }
      },
      "outputs": [
        {
          "output_type": "error",
          "ename": "NameError",
          "evalue": "name 'pull' is not defined",
          "traceback": [
            "\u001b[0;31m---------------------------------------------------------------------------\u001b[0m",
            "\u001b[0;31mNameError\u001b[0m                                 Traceback (most recent call last)",
            "\u001b[0;32m<ipython-input-3-36c310b45470>\u001b[0m in \u001b[0;36m<cell line: 0>\u001b[0;34m()\u001b[0m\n\u001b[0;32m----> 1\u001b[0;31m \u001b[0mcompare_tree_models_results\u001b[0m \u001b[0;34m=\u001b[0m \u001b[0mpull\u001b[0m\u001b[0;34m(\u001b[0m\u001b[0;34m)\u001b[0m\u001b[0;34m\u001b[0m\u001b[0;34m\u001b[0m\u001b[0m\n\u001b[0m\u001b[1;32m      2\u001b[0m \u001b[0mcompare_tree_models_results\u001b[0m\u001b[0;34m\u001b[0m\u001b[0;34m\u001b[0m\u001b[0m\n",
            "\u001b[0;31mNameError\u001b[0m: name 'pull' is not defined"
          ]
        }
      ],
      "source": [
        "compare_tree_models_results = pull()\n",
        "compare_tree_models_results"
      ]
    },
    {
      "cell_type": "markdown",
      "id": "05a72fc2",
      "metadata": {
        "id": "05a72fc2"
      },
      "source": [
        "By default `compare_models` return the single best performing model based on the metric defined in the `sort` parameter. Let's change our code to return 3 top models based on `Recall`."
      ]
    },
    {
      "cell_type": "code",
      "execution_count": 4,
      "id": "1066dd07",
      "metadata": {
        "id": "1066dd07",
        "outputId": "4312d066-ec03-4243-e1f9-100f1536618e",
        "colab": {
          "base_uri": "https://localhost:8080/",
          "height": 147
        }
      },
      "outputs": [
        {
          "output_type": "error",
          "ename": "NameError",
          "evalue": "name 'compare_models' is not defined",
          "traceback": [
            "\u001b[0;31m---------------------------------------------------------------------------\u001b[0m",
            "\u001b[0;31mNameError\u001b[0m                                 Traceback (most recent call last)",
            "\u001b[0;32m<ipython-input-4-9927228b1854>\u001b[0m in \u001b[0;36m<cell line: 0>\u001b[0;34m()\u001b[0m\n\u001b[0;32m----> 1\u001b[0;31m \u001b[0mbest_recall_models_top3\u001b[0m \u001b[0;34m=\u001b[0m \u001b[0mcompare_models\u001b[0m\u001b[0;34m(\u001b[0m\u001b[0msort\u001b[0m \u001b[0;34m=\u001b[0m \u001b[0;34m'Recall'\u001b[0m\u001b[0;34m,\u001b[0m \u001b[0mn_select\u001b[0m \u001b[0;34m=\u001b[0m \u001b[0;36m3\u001b[0m\u001b[0;34m)\u001b[0m\u001b[0;34m\u001b[0m\u001b[0;34m\u001b[0m\u001b[0m\n\u001b[0m",
            "\u001b[0;31mNameError\u001b[0m: name 'compare_models' is not defined"
          ]
        }
      ],
      "source": [
        "best_recall_models_top3 = compare_models(sort = 'Recall', n_select = 3)"
      ]
    },
    {
      "cell_type": "code",
      "execution_count": 5,
      "id": "aa259708",
      "metadata": {
        "id": "aa259708",
        "outputId": "3125faa0-ec3e-49d3-f819-bfdbf480d762",
        "colab": {
          "base_uri": "https://localhost:8080/",
          "height": 165
        }
      },
      "outputs": [
        {
          "output_type": "error",
          "ename": "NameError",
          "evalue": "name 'best_recall_models_top3' is not defined",
          "traceback": [
            "\u001b[0;31m---------------------------------------------------------------------------\u001b[0m",
            "\u001b[0;31mNameError\u001b[0m                                 Traceback (most recent call last)",
            "\u001b[0;32m<ipython-input-5-73a14d968f2a>\u001b[0m in \u001b[0;36m<cell line: 0>\u001b[0;34m()\u001b[0m\n\u001b[1;32m      1\u001b[0m \u001b[0;31m# list of top 3 models by Recall\u001b[0m\u001b[0;34m\u001b[0m\u001b[0;34m\u001b[0m\u001b[0m\n\u001b[0;32m----> 2\u001b[0;31m \u001b[0mbest_recall_models_top3\u001b[0m\u001b[0;34m\u001b[0m\u001b[0;34m\u001b[0m\u001b[0m\n\u001b[0m",
            "\u001b[0;31mNameError\u001b[0m: name 'best_recall_models_top3' is not defined"
          ]
        }
      ],
      "source": [
        "# list of top 3 models by Recall\n",
        "best_recall_models_top3"
      ]
    },
    {
      "cell_type": "markdown",
      "id": "1d91d27e",
      "metadata": {
        "id": "1d91d27e"
      },
      "source": [
        "Some other parameters that you might find very useful in `compare_models` are:\n",
        "\n",
        "- fold\n",
        "- cross_validation\n",
        "- budget_time\n",
        "- errors\n",
        "- probability_threshold\n",
        "- parallel\n",
        "\n",
        "You can check the docstring of the function for more info."
      ]
    },
    {
      "cell_type": "code",
      "execution_count": null,
      "id": "f0c49e0b",
      "metadata": {
        "id": "f0c49e0b"
      },
      "outputs": [],
      "source": [
        "# help(compare_models)"
      ]
    },
    {
      "cell_type": "markdown",
      "id": "9e6c47cb",
      "metadata": {
        "id": "9e6c47cb"
      },
      "source": [
        "## ✅ Experiment Logging\n",
        "PyCaret integrates with many different type of experiment loggers (default = 'mlflow'). To turn on experiment tracking in PyCaret you can set `log_experiment` and `experiment_name` parameter. It will automatically track all the metrics, hyperparameters, and artifacts based on the defined logger."
      ]
    },
    {
      "cell_type": "code",
      "execution_count": 6,
      "id": "1af63fd0",
      "metadata": {
        "id": "1af63fd0"
      },
      "outputs": [],
      "source": [
        "# from pycaret.classification import *\n",
        "# s = setup(data, target = 'Class variable', log_experiment='mlflow', experiment_name='iris_experiment')"
      ]
    },
    {
      "cell_type": "code",
      "execution_count": 7,
      "id": "42cd6120",
      "metadata": {
        "id": "42cd6120"
      },
      "outputs": [],
      "source": [
        "# compare models\n",
        "# best = compare_models()"
      ]
    },
    {
      "cell_type": "code",
      "execution_count": 8,
      "id": "adc82ce5",
      "metadata": {
        "id": "adc82ce5"
      },
      "outputs": [],
      "source": [
        "# start mlflow server on localhost:5000\n",
        "# !mlflow ui"
      ]
    },
    {
      "cell_type": "markdown",
      "id": "a06f9df7",
      "metadata": {
        "id": "a06f9df7"
      },
      "source": [
        "By default PyCaret uses `MLFlow` logger that can be changed using `log_experiment` parameter. Following loggers are available:\n",
        "    \n",
        "    - mlflow\n",
        "    - wandb\n",
        "    - comet_ml\n",
        "    - dagshub\n",
        "    \n",
        "Other logging related parameters that you may find useful are:\n",
        "\n",
        "- experiment_custom_tags\n",
        "- log_plots\n",
        "- log_data\n",
        "- log_profile\n",
        "\n",
        "For more information check out the docstring of the `setup` function."
      ]
    },
    {
      "cell_type": "code",
      "execution_count": 9,
      "id": "2f8b6aa1",
      "metadata": {
        "id": "2f8b6aa1"
      },
      "outputs": [],
      "source": [
        "# help(setup)"
      ]
    },
    {
      "cell_type": "markdown",
      "id": "6ce0b555",
      "metadata": {
        "id": "6ce0b555"
      },
      "source": [
        "## ✅ Create Model\n",
        "This function trains and evaluates the performance of a given estimator using cross-validation. The output of this function is a scoring grid with CV scores by fold. Metrics evaluated during CV can be accessed using the `get_metrics` function. Custom metrics can be added or removed using `add_metric` and `remove_metric` function. All the available models can be accessed using the models function."
      ]
    },
    {
      "cell_type": "code",
      "execution_count": 10,
      "id": "837cebfa",
      "metadata": {
        "id": "837cebfa",
        "outputId": "e8418e2d-515c-4c0a-dbbb-20b5b2383dbb",
        "colab": {
          "base_uri": "https://localhost:8080/",
          "height": 165
        }
      },
      "outputs": [
        {
          "output_type": "error",
          "ename": "NameError",
          "evalue": "name 'models' is not defined",
          "traceback": [
            "\u001b[0;31m---------------------------------------------------------------------------\u001b[0m",
            "\u001b[0;31mNameError\u001b[0m                                 Traceback (most recent call last)",
            "\u001b[0;32m<ipython-input-10-59beabed5444>\u001b[0m in \u001b[0;36m<cell line: 0>\u001b[0;34m()\u001b[0m\n\u001b[1;32m      1\u001b[0m \u001b[0;31m# check all the available models\u001b[0m\u001b[0;34m\u001b[0m\u001b[0;34m\u001b[0m\u001b[0m\n\u001b[0;32m----> 2\u001b[0;31m \u001b[0mmodels\u001b[0m\u001b[0;34m(\u001b[0m\u001b[0;34m)\u001b[0m\u001b[0;34m\u001b[0m\u001b[0;34m\u001b[0m\u001b[0m\n\u001b[0m",
            "\u001b[0;31mNameError\u001b[0m: name 'models' is not defined"
          ]
        }
      ],
      "source": [
        "# check all the available models\n",
        "models()"
      ]
    },
    {
      "cell_type": "code",
      "execution_count": null,
      "id": "16641cab",
      "metadata": {
        "id": "16641cab"
      },
      "outputs": [],
      "source": [
        "# train logistic regression with default fold=10\n",
        "lr = create_model('lr')"
      ]
    },
    {
      "cell_type": "markdown",
      "id": "074b4572",
      "metadata": {
        "id": "074b4572"
      },
      "source": [
        "The function above has return trained model object as an output. The scoring grid is only displayed and not returned. If you need access to the scoring grid you can use `pull` function to access the dataframe."
      ]
    },
    {
      "cell_type": "code",
      "execution_count": null,
      "id": "fe277e1b",
      "metadata": {
        "id": "fe277e1b"
      },
      "outputs": [],
      "source": [
        "lr_results = pull()\n",
        "print(type(lr_results))\n",
        "lr_results"
      ]
    },
    {
      "cell_type": "code",
      "execution_count": null,
      "id": "148a74c4",
      "metadata": {
        "id": "148a74c4"
      },
      "outputs": [],
      "source": [
        "# train logistic regression with fold=3\n",
        "lr = create_model('lr', fold=3)"
      ]
    },
    {
      "cell_type": "code",
      "execution_count": null,
      "id": "5a8906a8",
      "metadata": {
        "id": "5a8906a8"
      },
      "outputs": [],
      "source": [
        "# train logistic regression with specific model parameters\n",
        "create_model('lr', C = 0.5, l1_ratio = 0.15)"
      ]
    },
    {
      "cell_type": "code",
      "execution_count": null,
      "id": "b85af29b",
      "metadata": {
        "id": "b85af29b"
      },
      "outputs": [],
      "source": [
        "# train lr and return train score as well alongwith CV\n",
        "create_model('lr', return_train_score=True)"
      ]
    },
    {
      "cell_type": "markdown",
      "id": "08634e9e",
      "metadata": {
        "id": "08634e9e"
      },
      "source": [
        "Some other parameters that you might find very useful in `create_model` are:\n",
        "\n",
        "- cross_validation\n",
        "- engine\n",
        "- fit_kwargs\n",
        "- groups\n",
        "\n",
        "You can check the docstring of the function for more info."
      ]
    },
    {
      "cell_type": "code",
      "execution_count": null,
      "id": "3fb32c74",
      "metadata": {
        "id": "3fb32c74"
      },
      "outputs": [],
      "source": [
        "# help(create_model)"
      ]
    },
    {
      "cell_type": "markdown",
      "id": "d5378836",
      "metadata": {
        "id": "d5378836"
      },
      "source": [
        "## ✅ Tune Model\n",
        "\n",
        "This function tunes the hyperparameters of the model. The output of this function is a scoring grid with cross-validated scores by fold. The best model is selected based on the metric defined in optimize parameter. Metrics evaluated during cross-validation can be accessed using the `get_metrics` function. Custom metrics can be added or removed using `add_metric` and `remove_metric` function."
      ]
    },
    {
      "cell_type": "code",
      "execution_count": null,
      "id": "402597f2",
      "metadata": {
        "id": "402597f2"
      },
      "outputs": [],
      "source": [
        "# train a dt model with default params\n",
        "dt = create_model('dt')"
      ]
    },
    {
      "cell_type": "code",
      "execution_count": null,
      "id": "90dc451d",
      "metadata": {
        "id": "90dc451d"
      },
      "outputs": [],
      "source": [
        "# tune hyperparameters of dt\n",
        "tuned_dt = tune_model(dt)"
      ]
    },
    {
      "cell_type": "markdown",
      "id": "805b66b9",
      "metadata": {
        "id": "805b66b9"
      },
      "source": [
        "Metric to optimize can be defined in `optimize` parameter (default = 'Accuracy'). Also, a custom tuned grid can be passed with `custom_grid` parameter."
      ]
    },
    {
      "cell_type": "code",
      "execution_count": null,
      "id": "cca8e640",
      "metadata": {
        "id": "cca8e640"
      },
      "outputs": [],
      "source": [
        "dt"
      ]
    },
    {
      "cell_type": "code",
      "execution_count": null,
      "id": "31e050ff",
      "metadata": {
        "id": "31e050ff"
      },
      "outputs": [],
      "source": [
        "# define tuning grid\n",
        "dt_grid = {'max_depth' : [None, 2, 4, 6, 8, 10, 12]}\n",
        "\n",
        "# tune model with custom grid and metric = F1\n",
        "tuned_dt = tune_model(dt, custom_grid = dt_grid, optimize = 'F1')"
      ]
    },
    {
      "cell_type": "code",
      "execution_count": null,
      "id": "6cca514b",
      "metadata": {
        "id": "6cca514b"
      },
      "outputs": [],
      "source": [
        "# to access the tuner object you can set return_tuner = True\n",
        "tuned_dt, tuner = tune_model(dt, return_tuner=True)"
      ]
    },
    {
      "cell_type": "code",
      "execution_count": null,
      "id": "80cbb4a6",
      "metadata": {
        "id": "80cbb4a6"
      },
      "outputs": [],
      "source": [
        "# model object\n",
        "tuned_dt"
      ]
    },
    {
      "cell_type": "code",
      "execution_count": null,
      "id": "7d5e49ca",
      "metadata": {
        "id": "7d5e49ca"
      },
      "outputs": [],
      "source": [
        "# tuner object\n",
        "tuner"
      ]
    },
    {
      "cell_type": "markdown",
      "id": "0a33c70b",
      "metadata": {
        "id": "0a33c70b"
      },
      "source": [
        "The default search algorithm is `RandomizedSearchCV` from `sklearn`. This can be changed by using `search_library` and `search_algorithm` parameter."
      ]
    },
    {
      "cell_type": "code",
      "execution_count": 11,
      "id": "31e33547",
      "metadata": {
        "id": "31e33547",
        "outputId": "6d45ba85-5d98-4966-9221-c8fa0c943d2a",
        "colab": {
          "base_uri": "https://localhost:8080/",
          "height": 165
        }
      },
      "outputs": [
        {
          "output_type": "error",
          "ename": "NameError",
          "evalue": "name 'tune_model' is not defined",
          "traceback": [
            "\u001b[0;31m---------------------------------------------------------------------------\u001b[0m",
            "\u001b[0;31mNameError\u001b[0m                                 Traceback (most recent call last)",
            "\u001b[0;32m<ipython-input-11-e5c09081c4b5>\u001b[0m in \u001b[0;36m<cell line: 0>\u001b[0;34m()\u001b[0m\n\u001b[1;32m      1\u001b[0m \u001b[0;31m# tune dt using optuna\u001b[0m\u001b[0;34m\u001b[0m\u001b[0;34m\u001b[0m\u001b[0m\n\u001b[0;32m----> 2\u001b[0;31m \u001b[0mtuned_dt\u001b[0m \u001b[0;34m=\u001b[0m \u001b[0mtune_model\u001b[0m\u001b[0;34m(\u001b[0m\u001b[0mdt\u001b[0m\u001b[0;34m,\u001b[0m \u001b[0msearch_library\u001b[0m \u001b[0;34m=\u001b[0m \u001b[0;34m'optuna'\u001b[0m\u001b[0;34m)\u001b[0m\u001b[0;34m\u001b[0m\u001b[0;34m\u001b[0m\u001b[0m\n\u001b[0m",
            "\u001b[0;31mNameError\u001b[0m: name 'tune_model' is not defined"
          ]
        }
      ],
      "source": [
        "# tune dt using optuna\n",
        "tuned_dt = tune_model(dt, search_library = 'optuna')"
      ]
    },
    {
      "cell_type": "markdown",
      "id": "a1e2875b",
      "metadata": {
        "id": "a1e2875b"
      },
      "source": [
        "For more details on all available `search_library` and `search_algorithm` please check the docstring. Some other parameters that you might find very useful in `tune_model` are:\n",
        "\n",
        "- choose_better\n",
        "- n_iter\n",
        "- early_stopping\n",
        "- groups\n",
        "\n",
        "You can check the docstring of the function for more info."
      ]
    },
    {
      "cell_type": "code",
      "execution_count": null,
      "id": "94f9c86e",
      "metadata": {
        "id": "94f9c86e"
      },
      "outputs": [],
      "source": [
        "# help(tune_model)"
      ]
    },
    {
      "cell_type": "markdown",
      "id": "2ca8ee07",
      "metadata": {
        "id": "2ca8ee07"
      },
      "source": [
        "## ✅ Ensemble Model"
      ]
    },
    {
      "cell_type": "markdown",
      "id": "ce321d4c",
      "metadata": {
        "id": "ce321d4c"
      },
      "source": [
        "This function ensembles a given estimator. The output of this function is a scoring grid with CV scores by fold. Metrics evaluated during CV can be accessed using the `get_metrics` function. Custom metrics can be added or removed using `add_metric` and `remove_metric` function."
      ]
    },
    {
      "cell_type": "code",
      "execution_count": null,
      "id": "c8ee936d",
      "metadata": {
        "id": "c8ee936d"
      },
      "outputs": [],
      "source": [
        "# ensemble with bagging\n",
        "ensemble_model(dt, method = 'Bagging')"
      ]
    },
    {
      "cell_type": "code",
      "execution_count": null,
      "id": "79279394",
      "metadata": {
        "id": "79279394"
      },
      "outputs": [],
      "source": [
        "# ensemble with boosting\n",
        "ensemble_model(dt, method = 'Boosting')"
      ]
    },
    {
      "cell_type": "markdown",
      "id": "d0fa1ce2",
      "metadata": {
        "id": "d0fa1ce2"
      },
      "source": [
        "Some other parameters that you might find very useful in `ensemble_model` are:\n",
        "\n",
        "- choose_better\n",
        "- n_estimators\n",
        "- groups\n",
        "- fit_kwargs\n",
        "- probability_threshold\n",
        "- return_train_score\n",
        "\n",
        "You can check the docstring of the function for more info."
      ]
    },
    {
      "cell_type": "code",
      "execution_count": null,
      "id": "78130ed1",
      "metadata": {
        "id": "78130ed1"
      },
      "outputs": [],
      "source": [
        "# help(ensemble_model)"
      ]
    },
    {
      "cell_type": "markdown",
      "id": "ea8a9a4e",
      "metadata": {
        "id": "ea8a9a4e"
      },
      "source": [
        "## ✅ Blend Models"
      ]
    },
    {
      "cell_type": "markdown",
      "id": "2ede29c4",
      "metadata": {
        "id": "2ede29c4"
      },
      "source": [
        "This function trains a Soft Voting / Majority Rule classifier for select models passed in the estimator_list parameter. The output of this function is a scoring grid with CV scores by fold. Metrics evaluated during CV can be accessed using the `get_metrics` function. Custom metrics can be added or removed using `add_metric` and `remove_metric` function."
      ]
    },
    {
      "cell_type": "code",
      "execution_count": null,
      "id": "61a7a1c5",
      "metadata": {
        "id": "61a7a1c5"
      },
      "outputs": [],
      "source": [
        "# top 3 models based on recall\n",
        "best_recall_models_top3"
      ]
    },
    {
      "cell_type": "code",
      "execution_count": null,
      "id": "04f65f2f",
      "metadata": {
        "id": "04f65f2f"
      },
      "outputs": [],
      "source": [
        "# blend top 3 models\n",
        "blend_models(best_recall_models_top3)"
      ]
    },
    {
      "cell_type": "markdown",
      "id": "9e788c9c",
      "metadata": {
        "id": "9e788c9c"
      },
      "source": [
        "Some other parameters that you might find very useful in `blend_models` are:\n",
        "\n",
        "- choose_better\n",
        "- method\n",
        "- weights\n",
        "- fit_kwargs\n",
        "- probability_threshold\n",
        "- return_train_score\n",
        "\n",
        "You can check the docstring of the function for more info."
      ]
    },
    {
      "cell_type": "code",
      "execution_count": null,
      "id": "99b549a6",
      "metadata": {
        "id": "99b549a6"
      },
      "outputs": [],
      "source": [
        "# help(blend_models)"
      ]
    },
    {
      "cell_type": "markdown",
      "id": "e76969b0",
      "metadata": {
        "id": "e76969b0"
      },
      "source": [
        "## ✅ Stack Models"
      ]
    },
    {
      "cell_type": "markdown",
      "id": "55909804",
      "metadata": {
        "id": "55909804"
      },
      "source": [
        "This function trains a meta-model over select estimators passed in the estimator_list parameter. The output of this function is a scoring grid with CV scores by fold. Metrics evaluated during CV can be accessed using the `get_metrics` function. Custom metrics can be added or removed using `add_metric` and `remove_metric` function."
      ]
    },
    {
      "cell_type": "code",
      "execution_count": null,
      "id": "201c681e",
      "metadata": {
        "id": "201c681e"
      },
      "outputs": [],
      "source": [
        "# stack models\n",
        "stack_models(best_recall_models_top3)"
      ]
    },
    {
      "cell_type": "markdown",
      "id": "af78cda8",
      "metadata": {
        "id": "af78cda8"
      },
      "source": [
        "Some other parameters that you might find very useful in `stack_models` are:\n",
        "\n",
        "- choose_better\n",
        "- meta_model\n",
        "- method\n",
        "- restack\n",
        "- probability_threshold\n",
        "- return_train_score\n",
        "\n",
        "You can check the docstring of the function for more info."
      ]
    },
    {
      "cell_type": "code",
      "execution_count": null,
      "id": "3305e597",
      "metadata": {
        "id": "3305e597"
      },
      "outputs": [],
      "source": [
        "# help(stack_models)"
      ]
    },
    {
      "cell_type": "markdown",
      "id": "279a3127",
      "metadata": {
        "id": "279a3127"
      },
      "source": [
        "## ✅ Plot Model"
      ]
    },
    {
      "cell_type": "markdown",
      "id": "862bd3e9",
      "metadata": {
        "id": "862bd3e9"
      },
      "source": [
        "This function analyzes the performance of a trained model on the hold-out set. It may require re-training the model in certain cases."
      ]
    },
    {
      "cell_type": "code",
      "execution_count": null,
      "id": "9c8da9b4",
      "metadata": {
        "id": "9c8da9b4"
      },
      "outputs": [],
      "source": [
        "# plot class report\n",
        "plot_model(best, plot = 'class_report')"
      ]
    },
    {
      "cell_type": "code",
      "execution_count": null,
      "id": "952b6f24",
      "metadata": {
        "id": "952b6f24"
      },
      "outputs": [],
      "source": [
        "# to control the scale of plot\n",
        "plot_model(best, plot = 'class_report', scale = 2)"
      ]
    },
    {
      "cell_type": "code",
      "execution_count": null,
      "id": "54389270",
      "metadata": {
        "id": "54389270"
      },
      "outputs": [],
      "source": [
        "# to save the plot\n",
        "plot_model(best, plot = 'class_report', save=True)"
      ]
    },
    {
      "cell_type": "markdown",
      "id": "2fef279d",
      "metadata": {
        "id": "2fef279d"
      },
      "source": [
        "Some other parameters that you might find very useful in `plot_model` are:\n",
        "\n",
        "- fit_kwargs\n",
        "- plot_kwargs\n",
        "- groups\n",
        "- display_format\n",
        "\n",
        "You can check the docstring of the function for more info."
      ]
    },
    {
      "cell_type": "code",
      "execution_count": null,
      "id": "54b09b8e",
      "metadata": {
        "id": "54b09b8e"
      },
      "outputs": [],
      "source": [
        "# help(plot_model)"
      ]
    },
    {
      "cell_type": "markdown",
      "id": "b724ca46",
      "metadata": {
        "id": "b724ca46"
      },
      "source": [
        "## ✅ Interpret Model"
      ]
    },
    {
      "cell_type": "markdown",
      "id": "52f8fb33",
      "metadata": {
        "id": "52f8fb33"
      },
      "source": [
        "This function analyzes the predictions generated from a trained model. Most plots in this function are implemented based on the SHAP (Shapley Additive exPlanations). For more info on this, please see https://shap.readthedocs.io/en/latest/"
      ]
    },
    {
      "cell_type": "code",
      "execution_count": null,
      "id": "6b6891b7",
      "metadata": {
        "id": "6b6891b7"
      },
      "outputs": [],
      "source": [
        "# train lightgbm model\n",
        "lightgbm = create_model('lightgbm')"
      ]
    },
    {
      "cell_type": "code",
      "execution_count": null,
      "id": "3198b571",
      "metadata": {
        "id": "3198b571"
      },
      "outputs": [],
      "source": [
        "# interpret summary model\n",
        "interpret_model(lightgbm, plot = 'summary')"
      ]
    },
    {
      "cell_type": "code",
      "execution_count": null,
      "id": "824bafdc",
      "metadata": {
        "id": "824bafdc"
      },
      "outputs": [],
      "source": [
        "# reason plot for test set observation 1\n",
        "interpret_model(lightgbm, plot = 'reason', observation = 1)"
      ]
    },
    {
      "cell_type": "markdown",
      "id": "ca7ce2b4",
      "metadata": {
        "id": "ca7ce2b4"
      },
      "source": [
        "Some other parameters that you might find very useful in `interpret_model` are:\n",
        "\n",
        "- plot\n",
        "- feature\n",
        "- use_train_data\n",
        "- X_new_sample\n",
        "- y_new_sample\n",
        "- save\n",
        "\n",
        "You can check the docstring of the function for more info."
      ]
    },
    {
      "cell_type": "code",
      "execution_count": null,
      "id": "42595030",
      "metadata": {
        "id": "42595030"
      },
      "outputs": [],
      "source": [
        "# help(interpret_model)"
      ]
    },
    {
      "cell_type": "markdown",
      "id": "9f57d0c8",
      "metadata": {
        "id": "9f57d0c8"
      },
      "source": [
        "## ✅ Get Leaderboard"
      ]
    },
    {
      "cell_type": "markdown",
      "id": "ec63b67a",
      "metadata": {
        "id": "ec63b67a"
      },
      "source": [
        "This function returns the leaderboard of all models trained in the current setup."
      ]
    },
    {
      "cell_type": "code",
      "execution_count": null,
      "id": "307a6e3c",
      "metadata": {
        "id": "307a6e3c"
      },
      "outputs": [],
      "source": [
        "# get leaderboard\n",
        "lb = get_leaderboard()\n",
        "lb"
      ]
    },
    {
      "cell_type": "code",
      "execution_count": null,
      "id": "f8a8b060",
      "metadata": {
        "id": "f8a8b060"
      },
      "outputs": [],
      "source": [
        "# select the best model based on F1\n",
        "lb.sort_values(by='F1', ascending=False)['Model'].iloc[0]"
      ]
    },
    {
      "cell_type": "markdown",
      "id": "9ecf0bfa",
      "metadata": {
        "id": "9ecf0bfa"
      },
      "source": [
        "Some other parameters that you might find very useful in `get_leaderboard` are:\n",
        "\n",
        "- finalize_models\n",
        "- fit_kwargs\n",
        "- model_only\n",
        "- groups\n",
        "\n",
        "You can check the docstring of the function for more info."
      ]
    },
    {
      "cell_type": "code",
      "execution_count": 12,
      "id": "dc76f0a5",
      "metadata": {
        "id": "dc76f0a5"
      },
      "outputs": [],
      "source": [
        "# help(get_leaderboard)"
      ]
    },
    {
      "cell_type": "markdown",
      "id": "94669c72",
      "metadata": {
        "id": "94669c72"
      },
      "source": [
        "## ✅ AutoML\n",
        "This function returns the best model out of all trained models in the current setup based on the optimize parameter. Metrics evaluated can be accessed using the `get_metrics` function."
      ]
    },
    {
      "cell_type": "code",
      "execution_count": 13,
      "id": "01532054",
      "metadata": {
        "id": "01532054",
        "outputId": "2d60b333-31f0-410b-f026-87152dca614e",
        "colab": {
          "base_uri": "https://localhost:8080/",
          "height": 147
        }
      },
      "outputs": [
        {
          "output_type": "error",
          "ename": "NameError",
          "evalue": "name 'automl' is not defined",
          "traceback": [
            "\u001b[0;31m---------------------------------------------------------------------------\u001b[0m",
            "\u001b[0;31mNameError\u001b[0m                                 Traceback (most recent call last)",
            "\u001b[0;32m<ipython-input-13-1d9bebadc35b>\u001b[0m in \u001b[0;36m<cell line: 0>\u001b[0;34m()\u001b[0m\n\u001b[0;32m----> 1\u001b[0;31m \u001b[0mautoml\u001b[0m\u001b[0;34m(\u001b[0m\u001b[0;34m)\u001b[0m\u001b[0;34m\u001b[0m\u001b[0;34m\u001b[0m\u001b[0m\n\u001b[0m",
            "\u001b[0;31mNameError\u001b[0m: name 'automl' is not defined"
          ]
        }
      ],
      "source": [
        "automl()"
      ]
    },
    {
      "cell_type": "markdown",
      "id": "726b2986",
      "metadata": {
        "id": "726b2986"
      },
      "source": [
        "## ✅ Dashboard\n",
        "The dashboard function generates the interactive dashboard for a trained model. The dashboard is implemented using `ExplainerDashboard`. For more information check out [Explainer Dashboard.](explainerdashboard.readthedocs.io)"
      ]
    },
    {
      "cell_type": "code",
      "execution_count": null,
      "id": "ca75507d",
      "metadata": {
        "id": "ca75507d"
      },
      "outputs": [],
      "source": [
        "# dashboard function\n",
        "dashboard(dt, display_format ='inline')"
      ]
    },
    {
      "cell_type": "markdown",
      "id": "58fd3e5a",
      "metadata": {
        "id": "58fd3e5a"
      },
      "source": [
        "## ✅Create App\n",
        "This function creates a basic gradio app for inference."
      ]
    },
    {
      "cell_type": "code",
      "execution_count": null,
      "id": "5cf989d3",
      "metadata": {
        "id": "5cf989d3"
      },
      "outputs": [],
      "source": [
        "# create gradio app\n",
        "create_app(best)"
      ]
    },
    {
      "cell_type": "markdown",
      "id": "a2d8e21d",
      "metadata": {
        "id": "a2d8e21d"
      },
      "source": [
        "## ✅ Create API\n",
        "This function takes an input model and creates a POST API for inference."
      ]
    },
    {
      "cell_type": "code",
      "execution_count": null,
      "id": "978413c9",
      "metadata": {
        "id": "978413c9"
      },
      "outputs": [],
      "source": [
        "# create api\n",
        "create_api(best, api_name = 'my_first_api')"
      ]
    },
    {
      "cell_type": "code",
      "execution_count": null,
      "id": "68e539aa",
      "metadata": {
        "id": "68e539aa"
      },
      "outputs": [],
      "source": [
        "# !python my_first_api.py"
      ]
    },
    {
      "cell_type": "code",
      "execution_count": null,
      "id": "a3de3327",
      "metadata": {
        "id": "a3de3327"
      },
      "outputs": [],
      "source": [
        "# check out the .py file created with this magic command\n",
        "# %load my_first_api.py"
      ]
    },
    {
      "cell_type": "markdown",
      "id": "1023f7df",
      "metadata": {
        "id": "1023f7df"
      },
      "source": [
        "## ✅ Create Docker\n",
        "This function creates a `Dockerfile` and `requirements.txt` for productionalizing API end-point."
      ]
    },
    {
      "cell_type": "code",
      "execution_count": null,
      "id": "452ced14",
      "metadata": {
        "id": "452ced14"
      },
      "outputs": [],
      "source": [
        "create_docker('my_first_api')"
      ]
    },
    {
      "cell_type": "code",
      "execution_count": null,
      "id": "301e1fa5",
      "metadata": {
        "id": "301e1fa5"
      },
      "outputs": [],
      "source": [
        "# check out the DockerFile file created with this magic command\n",
        "# %load DockerFile"
      ]
    },
    {
      "cell_type": "code",
      "execution_count": null,
      "id": "ca1e9ef7",
      "metadata": {
        "id": "ca1e9ef7"
      },
      "outputs": [],
      "source": [
        "# check out the requirements file created with this magic command\n",
        "# %load requirements.txt"
      ]
    },
    {
      "cell_type": "markdown",
      "id": "e27c212b",
      "metadata": {
        "id": "e27c212b"
      },
      "source": [
        "## ✅ Finalize Model\n",
        "This function trains a given model on the entire dataset including the hold-out set."
      ]
    },
    {
      "cell_type": "code",
      "execution_count": null,
      "id": "65225684",
      "metadata": {
        "id": "65225684"
      },
      "outputs": [],
      "source": [
        "final_best = finalize_model(best)"
      ]
    },
    {
      "cell_type": "code",
      "execution_count": null,
      "id": "80d17fec",
      "metadata": {
        "id": "80d17fec"
      },
      "outputs": [],
      "source": [
        "final_best"
      ]
    },
    {
      "cell_type": "markdown",
      "id": "b4693f88",
      "metadata": {
        "id": "b4693f88"
      },
      "source": [
        "## ✅ Convert Model\n",
        "This function transpiles the trained machine learning model's decision function in different programming languages such as Python, C, Java, Go, C#, etc. It is very useful if you want to deploy models into environments where you can't install your normal Python stack to support model inference."
      ]
    },
    {
      "cell_type": "code",
      "execution_count": null,
      "id": "dbe0e9fe",
      "metadata": {
        "id": "dbe0e9fe"
      },
      "outputs": [],
      "source": [
        "# transpiles learned function to java\n",
        "print(convert_model(dt, language = 'java'))"
      ]
    },
    {
      "cell_type": "markdown",
      "id": "ed00202c",
      "metadata": {
        "id": "ed00202c"
      },
      "source": [
        "## ✅ Deploy Model\n",
        "This function deploys the entire ML pipeline on the cloud.\n",
        "\n",
        "**AWS:**  When deploying model on AWS S3, environment variables must be configured using the command-line interface. To configure AWS environment variables, type `aws configure` in terminal. The following information is required which can be generated using the Identity and Access Management (IAM) portal of your amazon console account:\n",
        "\n",
        "- AWS Access Key ID\n",
        "- AWS Secret Key Access\n",
        "- Default Region Name (can be seen under Global settings on your AWS console)\n",
        "- Default output format (must be left blank)\n",
        "\n",
        "**GCP:** To deploy a model on Google Cloud Platform ('gcp'), the project must be created using the command-line or GCP console. Once the project is created, you must create a service account and download the service account key as a JSON file to set environment variables in your local environment. Learn more about it: https://cloud.google.com/docs/authentication/production\n",
        "\n",
        "**Azure:** To deploy a model on Microsoft Azure ('azure'), environment variables for the connection string must be set in your local environment. Go to settings of storage account on Azure portal to access the connection string required.\n",
        "AZURE_STORAGE_CONNECTION_STRING (required as environment variable)\n",
        "Learn more about it: https://docs.microsoft.com/en-us/azure/storage/blobs/storage-quickstart-blobs-python?toc=%2Fpython%2Fazure%2FTOC.json"
      ]
    },
    {
      "cell_type": "code",
      "execution_count": null,
      "id": "40b20a18",
      "metadata": {
        "id": "40b20a18"
      },
      "outputs": [],
      "source": [
        "# deploy model on aws s3\n",
        "# deploy_model(best, model_name = 'my_first_platform_on_aws',\n",
        "#             platform = 'aws', authentication = {'bucket' : 'pycaret-test'})"
      ]
    },
    {
      "cell_type": "code",
      "execution_count": null,
      "id": "9e236516",
      "metadata": {
        "id": "9e236516"
      },
      "outputs": [],
      "source": [
        "# load model from aws s3\n",
        "# loaded_from_aws = load_model(model_name = 'my_first_platform_on_aws', platform = 'aws',\n",
        "#                              authentication = {'bucket' : 'pycaret-test'})\n",
        "\n",
        "# loaded_from_aws"
      ]
    },
    {
      "cell_type": "markdown",
      "id": "e169ae86",
      "metadata": {
        "id": "e169ae86"
      },
      "source": [
        "## ✅ Save / Load Model\n",
        "This function saves the transformation pipeline and a trained model object into the current working directory as a pickle file for later use."
      ]
    },
    {
      "cell_type": "code",
      "execution_count": null,
      "id": "bc5cf24a",
      "metadata": {
        "id": "bc5cf24a"
      },
      "outputs": [],
      "source": [
        "# save model\n",
        "save_model(best, 'my_first_model')"
      ]
    },
    {
      "cell_type": "code",
      "execution_count": null,
      "id": "e8478d34",
      "metadata": {
        "id": "e8478d34"
      },
      "outputs": [],
      "source": [
        "# load model\n",
        "loaded_from_disk = load_model('my_first_model')\n",
        "loaded_from_disk"
      ]
    },
    {
      "cell_type": "markdown",
      "id": "de5eee8c",
      "metadata": {
        "id": "de5eee8c"
      },
      "source": [
        "## ✅ Save / Load Experiment\n",
        "This function saves all the experiment variables on disk, allowing to later resume without rerunning the setup function."
      ]
    },
    {
      "cell_type": "code",
      "execution_count": null,
      "id": "6a3c61b6",
      "metadata": {
        "id": "6a3c61b6"
      },
      "outputs": [],
      "source": [
        "# save experiment\n",
        "save_experiment('my_experiment')"
      ]
    },
    {
      "cell_type": "code",
      "execution_count": 14,
      "id": "83252c09",
      "metadata": {
        "id": "83252c09",
        "outputId": "20c852c7-e5a6-41d7-eed8-d6a71b3f348c",
        "colab": {
          "base_uri": "https://localhost:8080/",
          "height": 165
        }
      },
      "outputs": [
        {
          "output_type": "error",
          "ename": "NameError",
          "evalue": "name 'load_experiment' is not defined",
          "traceback": [
            "\u001b[0;31m---------------------------------------------------------------------------\u001b[0m",
            "\u001b[0;31mNameError\u001b[0m                                 Traceback (most recent call last)",
            "\u001b[0;32m<ipython-input-14-5a3439537274>\u001b[0m in \u001b[0;36m<cell line: 0>\u001b[0;34m()\u001b[0m\n\u001b[1;32m      1\u001b[0m \u001b[0;31m# load experiment from disk\u001b[0m\u001b[0;34m\u001b[0m\u001b[0;34m\u001b[0m\u001b[0m\n\u001b[0;32m----> 2\u001b[0;31m \u001b[0mexp_from_disk\u001b[0m \u001b[0;34m=\u001b[0m \u001b[0mload_experiment\u001b[0m\u001b[0;34m(\u001b[0m\u001b[0;34m'my_experiment'\u001b[0m\u001b[0;34m,\u001b[0m \u001b[0mdata\u001b[0m\u001b[0;34m=\u001b[0m\u001b[0mdata\u001b[0m\u001b[0;34m)\u001b[0m\u001b[0;34m\u001b[0m\u001b[0;34m\u001b[0m\u001b[0m\n\u001b[0m",
            "\u001b[0;31mNameError\u001b[0m: name 'load_experiment' is not defined"
          ]
        }
      ],
      "source": [
        "# load experiment from disk\n",
        "exp_from_disk = load_experiment('my_experiment', data=data)"
      ]
    }
  ],
  "metadata": {
    "kernelspec": {
      "display_name": "clean",
      "language": "python",
      "name": "python3"
    },
    "language_info": {
      "codemirror_mode": {
        "name": "ipython",
        "version": 3
      },
      "file_extension": ".py",
      "mimetype": "text/x-python",
      "name": "python",
      "nbconvert_exporter": "python",
      "pygments_lexer": "ipython3",
      "version": "3.8.10"
    },
    "colab": {
      "provenance": []
    }
  },
  "nbformat": 4,
  "nbformat_minor": 5
}